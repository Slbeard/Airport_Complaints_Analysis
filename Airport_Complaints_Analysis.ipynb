{
 "cells": [
  {
   "cell_type": "markdown",
   "id": "012d8c0f",
   "metadata": {},
   "source": [
    "### Setup"
   ]
  },
  {
   "cell_type": "code",
   "execution_count": 1,
   "id": "f4081818",
   "metadata": {},
   "outputs": [
    {
     "name": "stderr",
     "output_type": "stream",
     "text": [
      "C:\\Users\\saman\\anaconda3\\lib\\site-packages\\pandas\\core\\computation\\expressions.py:21: UserWarning: Pandas requires version '2.8.4' or newer of 'numexpr' (version '2.8.3' currently installed).\n",
      "  from pandas.core.computation.check import NUMEXPR_INSTALLED\n",
      "C:\\Users\\saman\\anaconda3\\lib\\site-packages\\pandas\\core\\arrays\\masked.py:60: UserWarning: Pandas requires version '1.3.6' or newer of 'bottleneck' (version '1.3.5' currently installed).\n",
      "  from pandas.core import (\n"
     ]
    }
   ],
   "source": [
    "import pandas as pd\n",
    "import numpy as np\n",
    "import matplotlib.pyplot as plt"
   ]
  },
  {
   "cell_type": "code",
   "execution_count": 2,
   "id": "568ad6a0",
   "metadata": {},
   "outputs": [],
   "source": [
    "complaints_airport = pd.read_csv('complaints-by-airport.csv')\n",
    "complaints_subcat = pd.read_csv('complaints-by-subcategory.csv')\n",
    "iata_icao = pd.read_csv('iata-icao.csv')\n",
    "complaints_cat = pd.read_csv('complaints-by-category.csv')"
   ]
  },
  {
   "cell_type": "markdown",
   "id": "ecd4831e",
   "metadata": {},
   "source": [
    "### By Airport"
   ]
  },
  {
   "cell_type": "code",
   "execution_count": 3,
   "id": "347b7f4d",
   "metadata": {},
   "outputs": [
    {
     "data": {
      "text/html": [
       "<div>\n",
       "<style scoped>\n",
       "    .dataframe tbody tr th:only-of-type {\n",
       "        vertical-align: middle;\n",
       "    }\n",
       "\n",
       "    .dataframe tbody tr th {\n",
       "        vertical-align: top;\n",
       "    }\n",
       "\n",
       "    .dataframe thead th {\n",
       "        text-align: right;\n",
       "    }\n",
       "</style>\n",
       "<table border=\"1\" class=\"dataframe\">\n",
       "  <thead>\n",
       "    <tr style=\"text-align: right;\">\n",
       "      <th></th>\n",
       "      <th>pdf_report_date</th>\n",
       "      <th>airport</th>\n",
       "      <th>year_month</th>\n",
       "      <th>count</th>\n",
       "    </tr>\n",
       "  </thead>\n",
       "  <tbody>\n",
       "    <tr>\n",
       "      <th>0</th>\n",
       "      <td>2019-02</td>\n",
       "      <td>ABE</td>\n",
       "      <td>2015-01</td>\n",
       "      <td>0</td>\n",
       "    </tr>\n",
       "    <tr>\n",
       "      <th>1</th>\n",
       "      <td>2019-02</td>\n",
       "      <td>ABE</td>\n",
       "      <td>2015-02</td>\n",
       "      <td>0</td>\n",
       "    </tr>\n",
       "    <tr>\n",
       "      <th>2</th>\n",
       "      <td>2019-02</td>\n",
       "      <td>ABE</td>\n",
       "      <td>2015-03</td>\n",
       "      <td>0</td>\n",
       "    </tr>\n",
       "    <tr>\n",
       "      <th>3</th>\n",
       "      <td>2019-02</td>\n",
       "      <td>ABE</td>\n",
       "      <td>2015-04</td>\n",
       "      <td>0</td>\n",
       "    </tr>\n",
       "    <tr>\n",
       "      <th>4</th>\n",
       "      <td>2019-02</td>\n",
       "      <td>ABE</td>\n",
       "      <td>2015-05</td>\n",
       "      <td>2</td>\n",
       "    </tr>\n",
       "  </tbody>\n",
       "</table>\n",
       "</div>"
      ],
      "text/plain": [
       "  pdf_report_date airport year_month  count\n",
       "0         2019-02     ABE    2015-01      0\n",
       "1         2019-02     ABE    2015-02      0\n",
       "2         2019-02     ABE    2015-03      0\n",
       "3         2019-02     ABE    2015-04      0\n",
       "4         2019-02     ABE    2015-05      2"
      ]
     },
     "execution_count": 3,
     "metadata": {},
     "output_type": "execute_result"
    }
   ],
   "source": [
    "complaints_airport.head()"
   ]
  },
  {
   "cell_type": "code",
   "execution_count": 4,
   "id": "99f7ae80",
   "metadata": {},
   "outputs": [
    {
     "data": {
      "text/plain": [
       "count\n",
       "0       14812\n",
       "1        7167\n",
       "2        3679\n",
       "3        2263\n",
       "4        1463\n",
       "        ...  \n",
       "382         1\n",
       "343         1\n",
       "444         1\n",
       "404         1\n",
       "3316        1\n",
       "Name: count, Length: 529, dtype: int64"
      ]
     },
     "execution_count": 4,
     "metadata": {},
     "output_type": "execute_result"
    }
   ],
   "source": [
    "complaints_airport['count'].value_counts()"
   ]
  },
  {
   "cell_type": "code",
   "execution_count": 5,
   "id": "3296c5e4",
   "metadata": {},
   "outputs": [],
   "source": [
    "complaints_airport_over_100 = complaints_airport[complaints_airport['count'] >100]"
   ]
  },
  {
   "cell_type": "code",
   "execution_count": 6,
   "id": "8403ee82",
   "metadata": {},
   "outputs": [],
   "source": [
    "over_100_airports = complaints_airport_over_100['airport'].value_counts().reset_index()"
   ]
  },
  {
   "cell_type": "code",
   "execution_count": 7,
   "id": "872de290",
   "metadata": {},
   "outputs": [],
   "source": [
    "over_100_airports_list = over_100_airports['airport'].tolist()"
   ]
  },
  {
   "cell_type": "code",
   "execution_count": 8,
   "id": "800fd6dd",
   "metadata": {},
   "outputs": [],
   "source": [
    "complaints_airport_over_10 = complaints_airport[complaints_airport['count'] >10]"
   ]
  },
  {
   "cell_type": "code",
   "execution_count": 9,
   "id": "3cd56ffc",
   "metadata": {},
   "outputs": [],
   "source": [
    "over_10_airports = complaints_airport_over_10['airport'].value_counts().reset_index()"
   ]
  },
  {
   "cell_type": "code",
   "execution_count": 10,
   "id": "a2ac80b4",
   "metadata": {},
   "outputs": [],
   "source": [
    "over_10_airports_list = over_10_airports['airport'].tolist()"
   ]
  },
  {
   "cell_type": "code",
   "execution_count": 11,
   "id": "07c076df",
   "metadata": {},
   "outputs": [],
   "source": [
    "complaints_airport_under_10 = complaints_airport[complaints_airport['count'] <10]"
   ]
  },
  {
   "cell_type": "code",
   "execution_count": 12,
   "id": "13aa8fe5",
   "metadata": {},
   "outputs": [],
   "source": [
    "under_10_airports = complaints_airport_under_10['airport'].value_counts().reset_index()"
   ]
  },
  {
   "cell_type": "code",
   "execution_count": 14,
   "id": "3abccc2a",
   "metadata": {},
   "outputs": [],
   "source": [
    "under_10_airports_list = under_10_airports['airport'].tolist()"
   ]
  },
  {
   "cell_type": "code",
   "execution_count": 15,
   "id": "00050f9e",
   "metadata": {},
   "outputs": [],
   "source": [
    "overlap = set(under_10_airports_list).intersection(over_10_airports_list)"
   ]
  },
  {
   "cell_type": "code",
   "execution_count": 16,
   "id": "1b4b2c30",
   "metadata": {},
   "outputs": [],
   "source": [
    "best_airports = under_10_airports[under_10_airports.airport.isin(overlap) == False]"
   ]
  },
  {
   "cell_type": "code",
   "execution_count": 17,
   "id": "0e2bd319",
   "metadata": {},
   "outputs": [
    {
     "data": {
      "text/html": [
       "<div>\n",
       "<style scoped>\n",
       "    .dataframe tbody tr th:only-of-type {\n",
       "        vertical-align: middle;\n",
       "    }\n",
       "\n",
       "    .dataframe tbody tr th {\n",
       "        vertical-align: top;\n",
       "    }\n",
       "\n",
       "    .dataframe thead th {\n",
       "        text-align: right;\n",
       "    }\n",
       "</style>\n",
       "<table border=\"1\" class=\"dataframe\">\n",
       "  <thead>\n",
       "    <tr style=\"text-align: right;\">\n",
       "      <th></th>\n",
       "      <th>airport</th>\n",
       "      <th>count</th>\n",
       "    </tr>\n",
       "  </thead>\n",
       "  <tbody>\n",
       "    <tr>\n",
       "      <th>0</th>\n",
       "      <td>SBY</td>\n",
       "      <td>109</td>\n",
       "    </tr>\n",
       "    <tr>\n",
       "      <th>1</th>\n",
       "      <td>SUN</td>\n",
       "      <td>109</td>\n",
       "    </tr>\n",
       "    <tr>\n",
       "      <th>2</th>\n",
       "      <td>SGU</td>\n",
       "      <td>109</td>\n",
       "    </tr>\n",
       "    <tr>\n",
       "      <th>3</th>\n",
       "      <td>HXD</td>\n",
       "      <td>109</td>\n",
       "    </tr>\n",
       "    <tr>\n",
       "      <th>4</th>\n",
       "      <td>BRD</td>\n",
       "      <td>109</td>\n",
       "    </tr>\n",
       "    <tr>\n",
       "      <th>...</th>\n",
       "      <td>...</td>\n",
       "      <td>...</td>\n",
       "    </tr>\n",
       "    <tr>\n",
       "      <th>413</th>\n",
       "      <td>SLE</td>\n",
       "      <td>4</td>\n",
       "    </tr>\n",
       "    <tr>\n",
       "      <th>415</th>\n",
       "      <td>WRL</td>\n",
       "      <td>3</td>\n",
       "    </tr>\n",
       "    <tr>\n",
       "      <th>417</th>\n",
       "      <td>AHN</td>\n",
       "      <td>3</td>\n",
       "    </tr>\n",
       "    <tr>\n",
       "      <th>419</th>\n",
       "      <td>JRB</td>\n",
       "      <td>3</td>\n",
       "    </tr>\n",
       "    <tr>\n",
       "      <th>426</th>\n",
       "      <td>CEF</td>\n",
       "      <td>3</td>\n",
       "    </tr>\n",
       "  </tbody>\n",
       "</table>\n",
       "<p>285 rows × 2 columns</p>\n",
       "</div>"
      ],
      "text/plain": [
       "    airport  count\n",
       "0       SBY    109\n",
       "1       SUN    109\n",
       "2       SGU    109\n",
       "3       HXD    109\n",
       "4       BRD    109\n",
       "..      ...    ...\n",
       "413     SLE      4\n",
       "415     WRL      3\n",
       "417     AHN      3\n",
       "419     JRB      3\n",
       "426     CEF      3\n",
       "\n",
       "[285 rows x 2 columns]"
      ]
     },
     "execution_count": 17,
     "metadata": {},
     "output_type": "execute_result"
    }
   ],
   "source": [
    "best_airports"
   ]
  },
  {
   "cell_type": "code",
   "execution_count": 18,
   "id": "46197766",
   "metadata": {},
   "outputs": [],
   "source": [
    "best_airports = best_airports[best_airports['count'] >100]"
   ]
  },
  {
   "cell_type": "code",
   "execution_count": 19,
   "id": "654d7080",
   "metadata": {},
   "outputs": [
    {
     "data": {
      "text/html": [
       "<div>\n",
       "<style scoped>\n",
       "    .dataframe tbody tr th:only-of-type {\n",
       "        vertical-align: middle;\n",
       "    }\n",
       "\n",
       "    .dataframe tbody tr th {\n",
       "        vertical-align: top;\n",
       "    }\n",
       "\n",
       "    .dataframe thead th {\n",
       "        text-align: right;\n",
       "    }\n",
       "</style>\n",
       "<table border=\"1\" class=\"dataframe\">\n",
       "  <thead>\n",
       "    <tr style=\"text-align: right;\">\n",
       "      <th></th>\n",
       "      <th>airport</th>\n",
       "      <th>count</th>\n",
       "    </tr>\n",
       "  </thead>\n",
       "  <tbody>\n",
       "    <tr>\n",
       "      <th>0</th>\n",
       "      <td>SBY</td>\n",
       "      <td>109</td>\n",
       "    </tr>\n",
       "    <tr>\n",
       "      <th>1</th>\n",
       "      <td>SUN</td>\n",
       "      <td>109</td>\n",
       "    </tr>\n",
       "    <tr>\n",
       "      <th>2</th>\n",
       "      <td>SGU</td>\n",
       "      <td>109</td>\n",
       "    </tr>\n",
       "    <tr>\n",
       "      <th>3</th>\n",
       "      <td>HXD</td>\n",
       "      <td>109</td>\n",
       "    </tr>\n",
       "    <tr>\n",
       "      <th>4</th>\n",
       "      <td>BRD</td>\n",
       "      <td>109</td>\n",
       "    </tr>\n",
       "    <tr>\n",
       "      <th>...</th>\n",
       "      <td>...</td>\n",
       "      <td>...</td>\n",
       "    </tr>\n",
       "    <tr>\n",
       "      <th>155</th>\n",
       "      <td>GCK</td>\n",
       "      <td>104</td>\n",
       "    </tr>\n",
       "    <tr>\n",
       "      <th>160</th>\n",
       "      <td>RKS</td>\n",
       "      <td>104</td>\n",
       "    </tr>\n",
       "    <tr>\n",
       "      <th>161</th>\n",
       "      <td>PUB</td>\n",
       "      <td>104</td>\n",
       "    </tr>\n",
       "    <tr>\n",
       "      <th>162</th>\n",
       "      <td>PAH</td>\n",
       "      <td>104</td>\n",
       "    </tr>\n",
       "    <tr>\n",
       "      <th>163</th>\n",
       "      <td>ERI</td>\n",
       "      <td>104</td>\n",
       "    </tr>\n",
       "  </tbody>\n",
       "</table>\n",
       "<p>132 rows × 2 columns</p>\n",
       "</div>"
      ],
      "text/plain": [
       "    airport  count\n",
       "0       SBY    109\n",
       "1       SUN    109\n",
       "2       SGU    109\n",
       "3       HXD    109\n",
       "4       BRD    109\n",
       "..      ...    ...\n",
       "155     GCK    104\n",
       "160     RKS    104\n",
       "161     PUB    104\n",
       "162     PAH    104\n",
       "163     ERI    104\n",
       "\n",
       "[132 rows x 2 columns]"
      ]
     },
     "execution_count": 19,
     "metadata": {},
     "output_type": "execute_result"
    }
   ],
   "source": [
    "best_airports"
   ]
  },
  {
   "cell_type": "code",
   "execution_count": 20,
   "id": "31961395",
   "metadata": {},
   "outputs": [],
   "source": [
    "fewest_complaints = complaints_airport_under_10[complaints_airport_under_10.airport.isin(overlap) == False]"
   ]
  },
  {
   "cell_type": "code",
   "execution_count": 21,
   "id": "e2cf0a15",
   "metadata": {},
   "outputs": [
    {
     "data": {
      "text/html": [
       "<div>\n",
       "<style scoped>\n",
       "    .dataframe tbody tr th:only-of-type {\n",
       "        vertical-align: middle;\n",
       "    }\n",
       "\n",
       "    .dataframe tbody tr th {\n",
       "        vertical-align: top;\n",
       "    }\n",
       "\n",
       "    .dataframe thead th {\n",
       "        text-align: right;\n",
       "    }\n",
       "</style>\n",
       "<table border=\"1\" class=\"dataframe\">\n",
       "  <thead>\n",
       "    <tr style=\"text-align: right;\">\n",
       "      <th></th>\n",
       "      <th>pdf_report_date</th>\n",
       "      <th>airport</th>\n",
       "      <th>year_month</th>\n",
       "      <th>count</th>\n",
       "    </tr>\n",
       "  </thead>\n",
       "  <tbody>\n",
       "    <tr>\n",
       "      <th>109</th>\n",
       "      <td>2019-02</td>\n",
       "      <td>ABI</td>\n",
       "      <td>2015-01</td>\n",
       "      <td>2</td>\n",
       "    </tr>\n",
       "    <tr>\n",
       "      <th>110</th>\n",
       "      <td>2019-02</td>\n",
       "      <td>ABI</td>\n",
       "      <td>2015-02</td>\n",
       "      <td>1</td>\n",
       "    </tr>\n",
       "    <tr>\n",
       "      <th>111</th>\n",
       "      <td>2019-02</td>\n",
       "      <td>ABI</td>\n",
       "      <td>2015-03</td>\n",
       "      <td>0</td>\n",
       "    </tr>\n",
       "    <tr>\n",
       "      <th>112</th>\n",
       "      <td>2019-02</td>\n",
       "      <td>ABI</td>\n",
       "      <td>2015-04</td>\n",
       "      <td>3</td>\n",
       "    </tr>\n",
       "    <tr>\n",
       "      <th>113</th>\n",
       "      <td>2019-02</td>\n",
       "      <td>ABI</td>\n",
       "      <td>2015-05</td>\n",
       "      <td>2</td>\n",
       "    </tr>\n",
       "    <tr>\n",
       "      <th>...</th>\n",
       "      <td>...</td>\n",
       "      <td>...</td>\n",
       "      <td>...</td>\n",
       "      <td>...</td>\n",
       "    </tr>\n",
       "    <tr>\n",
       "      <th>41607</th>\n",
       "      <td>2019-02</td>\n",
       "      <td>YNG</td>\n",
       "      <td>2015-08</td>\n",
       "      <td>3</td>\n",
       "    </tr>\n",
       "    <tr>\n",
       "      <th>41608</th>\n",
       "      <td>2019-02</td>\n",
       "      <td>YNG</td>\n",
       "      <td>2015-09</td>\n",
       "      <td>3</td>\n",
       "    </tr>\n",
       "    <tr>\n",
       "      <th>41609</th>\n",
       "      <td>2019-02</td>\n",
       "      <td>YNG</td>\n",
       "      <td>2015-10</td>\n",
       "      <td>4</td>\n",
       "    </tr>\n",
       "    <tr>\n",
       "      <th>41610</th>\n",
       "      <td>2019-02</td>\n",
       "      <td>YNG</td>\n",
       "      <td>2015-11</td>\n",
       "      <td>2</td>\n",
       "    </tr>\n",
       "    <tr>\n",
       "      <th>41611</th>\n",
       "      <td>2019-02</td>\n",
       "      <td>YNG</td>\n",
       "      <td>2015-12</td>\n",
       "      <td>1</td>\n",
       "    </tr>\n",
       "  </tbody>\n",
       "</table>\n",
       "<p>23950 rows × 4 columns</p>\n",
       "</div>"
      ],
      "text/plain": [
       "      pdf_report_date airport year_month  count\n",
       "109           2019-02     ABI    2015-01      2\n",
       "110           2019-02     ABI    2015-02      1\n",
       "111           2019-02     ABI    2015-03      0\n",
       "112           2019-02     ABI    2015-04      3\n",
       "113           2019-02     ABI    2015-05      2\n",
       "...               ...     ...        ...    ...\n",
       "41607         2019-02     YNG    2015-08      3\n",
       "41608         2019-02     YNG    2015-09      3\n",
       "41609         2019-02     YNG    2015-10      4\n",
       "41610         2019-02     YNG    2015-11      2\n",
       "41611         2019-02     YNG    2015-12      1\n",
       "\n",
       "[23950 rows x 4 columns]"
      ]
     },
     "execution_count": 21,
     "metadata": {},
     "output_type": "execute_result"
    }
   ],
   "source": [
    "fewest_complaints"
   ]
  },
  {
   "cell_type": "markdown",
   "id": "94c69ccb",
   "metadata": {},
   "source": [
    "### By Category"
   ]
  },
  {
   "cell_type": "code",
   "execution_count": 22,
   "id": "739d6a77",
   "metadata": {},
   "outputs": [
    {
     "data": {
      "text/html": [
       "<div>\n",
       "<style scoped>\n",
       "    .dataframe tbody tr th:only-of-type {\n",
       "        vertical-align: middle;\n",
       "    }\n",
       "\n",
       "    .dataframe tbody tr th {\n",
       "        vertical-align: top;\n",
       "    }\n",
       "\n",
       "    .dataframe thead th {\n",
       "        text-align: right;\n",
       "    }\n",
       "</style>\n",
       "<table border=\"1\" class=\"dataframe\">\n",
       "  <thead>\n",
       "    <tr style=\"text-align: right;\">\n",
       "      <th></th>\n",
       "      <th>pdf_report_date</th>\n",
       "      <th>airport</th>\n",
       "      <th>category</th>\n",
       "      <th>year_month</th>\n",
       "      <th>count</th>\n",
       "      <th>clean_cat</th>\n",
       "      <th>clean_cat_status</th>\n",
       "    </tr>\n",
       "  </thead>\n",
       "  <tbody>\n",
       "    <tr>\n",
       "      <th>0</th>\n",
       "      <td>2019-02</td>\n",
       "      <td>ABE</td>\n",
       "      <td>Hazardous Materials Safety</td>\n",
       "      <td>2015-01</td>\n",
       "      <td>0</td>\n",
       "      <td>Hazardous Materials Safety</td>\n",
       "      <td>original</td>\n",
       "    </tr>\n",
       "    <tr>\n",
       "      <th>1</th>\n",
       "      <td>2019-02</td>\n",
       "      <td>ABE</td>\n",
       "      <td>Mishandling of Passenger Property</td>\n",
       "      <td>2015-01</td>\n",
       "      <td>0</td>\n",
       "      <td>Mishandling of Passenger Property</td>\n",
       "      <td>original</td>\n",
       "    </tr>\n",
       "    <tr>\n",
       "      <th>2</th>\n",
       "      <td>2019-02</td>\n",
       "      <td>ABE</td>\n",
       "      <td>Hazardous Materials Safety</td>\n",
       "      <td>2015-02</td>\n",
       "      <td>0</td>\n",
       "      <td>Hazardous Materials Safety</td>\n",
       "      <td>original</td>\n",
       "    </tr>\n",
       "    <tr>\n",
       "      <th>3</th>\n",
       "      <td>2019-02</td>\n",
       "      <td>ABE</td>\n",
       "      <td>Mishandling of Passenger Property</td>\n",
       "      <td>2015-02</td>\n",
       "      <td>0</td>\n",
       "      <td>Mishandling of Passenger Property</td>\n",
       "      <td>original</td>\n",
       "    </tr>\n",
       "    <tr>\n",
       "      <th>4</th>\n",
       "      <td>2019-02</td>\n",
       "      <td>ABE</td>\n",
       "      <td>Hazardous Materials Safety</td>\n",
       "      <td>2015-03</td>\n",
       "      <td>0</td>\n",
       "      <td>Hazardous Materials Safety</td>\n",
       "      <td>original</td>\n",
       "    </tr>\n",
       "  </tbody>\n",
       "</table>\n",
       "</div>"
      ],
      "text/plain": [
       "  pdf_report_date airport                           category year_month  \\\n",
       "0         2019-02     ABE         Hazardous Materials Safety    2015-01   \n",
       "1         2019-02     ABE  Mishandling of Passenger Property    2015-01   \n",
       "2         2019-02     ABE         Hazardous Materials Safety    2015-02   \n",
       "3         2019-02     ABE  Mishandling of Passenger Property    2015-02   \n",
       "4         2019-02     ABE         Hazardous Materials Safety    2015-03   \n",
       "\n",
       "   count                          clean_cat clean_cat_status  \n",
       "0      0         Hazardous Materials Safety         original  \n",
       "1      0  Mishandling of Passenger Property         original  \n",
       "2      0         Hazardous Materials Safety         original  \n",
       "3      0  Mishandling of Passenger Property         original  \n",
       "4      0         Hazardous Materials Safety         original  "
      ]
     },
     "execution_count": 22,
     "metadata": {},
     "output_type": "execute_result"
    }
   ],
   "source": [
    "complaints_cat.head()"
   ]
  },
  {
   "cell_type": "code",
   "execution_count": 23,
   "id": "9d042037",
   "metadata": {},
   "outputs": [
    {
     "data": {
      "text/plain": [
       "clean_cat\n",
       "Mishandling of Passenger Property                           31212\n",
       "Screening                                                   29134\n",
       "Customer Service                                            28414\n",
       "Property - Special Handling                                 22072\n",
       "Patdown                                                     21405\n",
       "Civil Rights                                                18618\n",
       "Persons w/ Disabilities (PWD)                               18522\n",
       "Locks                                                       16738\n",
       "Expedited Passenger Screening Program                       14671\n",
       "Lost and Found                                               7441\n",
       "Identification (ID) Requirements                             3974\n",
       "Prohibited & Permitted Items                                 3927\n",
       "No Jurisdiction                                              3705\n",
       "Airline                                                      3326\n",
       "Request for Assistance                                       2956\n",
       "Advanced Imaging Technology (AIT)                            2461\n",
       "Claims                                                       1789\n",
       "Hazardous Materials Safety                                   1574\n",
       "Additional Information Required/Insufficient Information     1548\n",
       "Notice of Violation/Civil Penalties                           940\n",
       "TSA Contact Information                                       876\n",
       "DHS TRIP                                                      857\n",
       "Human Capital                                                 686\n",
       "Duplicate E-mail                                              589\n",
       "TWIC                                                          453\n",
       "Animals                                                       404\n",
       "No Subject                                                    386\n",
       "SIDA (Security Identification Display Area)                   377\n",
       "Intranet/Internet Inquiries                                   294\n",
       "Ombudsman                                                     278\n",
       "HAZMAT Endorsement                                            275\n",
       "Cargo                                                         190\n",
       "Current Topic                                                 189\n",
       "Transfer to Security Specialist                               185\n",
       "Business, Suggestions, and Ideas                              177\n",
       "General Aviation                                              173\n",
       "Freedom of Information Act (FOIA)                             164\n",
       "CSM/Stakeholder Follow-up                                     127\n",
       "Flying Armed                                                  119\n",
       "Federal Air Marshall Service (FAMS)                            85\n",
       "Federal Flight Deck Officer (FFDO) Program                     68\n",
       "Call Disconnect/Dropped/Wrong Number                           56\n",
       "SPAM                                                           47\n",
       "Transportation Security Operations Center                      36\n",
       "System Administrator                                           32\n",
       "Transcriptions                                                 23\n",
       "Public Affairs                                                 15\n",
       "Name: count, dtype: int64"
      ]
     },
     "execution_count": 23,
     "metadata": {},
     "output_type": "execute_result"
    }
   ],
   "source": [
    "complaints_cat['clean_cat'].value_counts()"
   ]
  },
  {
   "cell_type": "code",
   "execution_count": 24,
   "id": "a41579ab",
   "metadata": {},
   "outputs": [],
   "source": [
    "complaints_cat_wo_na_airports = complaints_cat.dropna()"
   ]
  },
  {
   "cell_type": "code",
   "execution_count": 25,
   "id": "9b8d4ba7",
   "metadata": {},
   "outputs": [
    {
     "data": {
      "text/html": [
       "<div>\n",
       "<style scoped>\n",
       "    .dataframe tbody tr th:only-of-type {\n",
       "        vertical-align: middle;\n",
       "    }\n",
       "\n",
       "    .dataframe tbody tr th {\n",
       "        vertical-align: top;\n",
       "    }\n",
       "\n",
       "    .dataframe thead th {\n",
       "        text-align: right;\n",
       "    }\n",
       "</style>\n",
       "<table border=\"1\" class=\"dataframe\">\n",
       "  <thead>\n",
       "    <tr style=\"text-align: right;\">\n",
       "      <th></th>\n",
       "      <th>pdf_report_date</th>\n",
       "      <th>airport</th>\n",
       "      <th>category</th>\n",
       "      <th>year_month</th>\n",
       "      <th>count</th>\n",
       "      <th>clean_cat</th>\n",
       "      <th>clean_cat_status</th>\n",
       "    </tr>\n",
       "  </thead>\n",
       "  <tbody>\n",
       "    <tr>\n",
       "      <th>72513</th>\n",
       "      <td>2024-02</td>\n",
       "      <td>EWR</td>\n",
       "      <td>Expedited Passenger Screening Program</td>\n",
       "      <td>2022-03</td>\n",
       "      <td>582</td>\n",
       "      <td>Expedited Passenger Screening Program</td>\n",
       "      <td>original</td>\n",
       "    </tr>\n",
       "    <tr>\n",
       "      <th>72534</th>\n",
       "      <td>2024-02</td>\n",
       "      <td>EWR</td>\n",
       "      <td>Expedited Passenger Screening Program</td>\n",
       "      <td>2022-04</td>\n",
       "      <td>567</td>\n",
       "      <td>Expedited Passenger Screening Program</td>\n",
       "      <td>original</td>\n",
       "    </tr>\n",
       "    <tr>\n",
       "      <th>72899</th>\n",
       "      <td>2024-02</td>\n",
       "      <td>EWR</td>\n",
       "      <td>Expedited Passenger Screening Program</td>\n",
       "      <td>2023-10</td>\n",
       "      <td>535</td>\n",
       "      <td>Expedited Passenger Screening Program</td>\n",
       "      <td>original</td>\n",
       "    </tr>\n",
       "    <tr>\n",
       "      <th>72555</th>\n",
       "      <td>2024-02</td>\n",
       "      <td>EWR</td>\n",
       "      <td>Expedited Passenger Screening Program</td>\n",
       "      <td>2022-05</td>\n",
       "      <td>495</td>\n",
       "      <td>Expedited Passenger Screening Program</td>\n",
       "      <td>original</td>\n",
       "    </tr>\n",
       "    <tr>\n",
       "      <th>72760</th>\n",
       "      <td>2024-02</td>\n",
       "      <td>EWR</td>\n",
       "      <td>Expedited Passenger Screening Program</td>\n",
       "      <td>2023-03</td>\n",
       "      <td>489</td>\n",
       "      <td>Expedited Passenger Screening Program</td>\n",
       "      <td>original</td>\n",
       "    </tr>\n",
       "    <tr>\n",
       "      <th>...</th>\n",
       "      <td>...</td>\n",
       "      <td>...</td>\n",
       "      <td>...</td>\n",
       "      <td>...</td>\n",
       "      <td>...</td>\n",
       "      <td>...</td>\n",
       "      <td>...</td>\n",
       "    </tr>\n",
       "    <tr>\n",
       "      <th>95418</th>\n",
       "      <td>2024-02</td>\n",
       "      <td>HNL</td>\n",
       "      <td>Additional Information Required/Insufficient I...</td>\n",
       "      <td>2023-07</td>\n",
       "      <td>0</td>\n",
       "      <td>Additional Information Required/Insufficient I...</td>\n",
       "      <td>original</td>\n",
       "    </tr>\n",
       "    <tr>\n",
       "      <th>95419</th>\n",
       "      <td>2024-02</td>\n",
       "      <td>HNL</td>\n",
       "      <td>Airline</td>\n",
       "      <td>2023-07</td>\n",
       "      <td>0</td>\n",
       "      <td>Airline</td>\n",
       "      <td>original</td>\n",
       "    </tr>\n",
       "    <tr>\n",
       "      <th>95421</th>\n",
       "      <td>2024-02</td>\n",
       "      <td>HNL</td>\n",
       "      <td>Claims</td>\n",
       "      <td>2023-07</td>\n",
       "      <td>0</td>\n",
       "      <td>Claims</td>\n",
       "      <td>original</td>\n",
       "    </tr>\n",
       "    <tr>\n",
       "      <th>95424</th>\n",
       "      <td>2024-02</td>\n",
       "      <td>HNL</td>\n",
       "      <td>Locks</td>\n",
       "      <td>2023-07</td>\n",
       "      <td>0</td>\n",
       "      <td>Locks</td>\n",
       "      <td>original</td>\n",
       "    </tr>\n",
       "    <tr>\n",
       "      <th>237545</th>\n",
       "      <td>2019-02</td>\n",
       "      <td>YNG</td>\n",
       "      <td>Screening</td>\n",
       "      <td>2015-12</td>\n",
       "      <td>0</td>\n",
       "      <td>Screening</td>\n",
       "      <td>original</td>\n",
       "    </tr>\n",
       "  </tbody>\n",
       "</table>\n",
       "<p>237546 rows × 7 columns</p>\n",
       "</div>"
      ],
      "text/plain": [
       "       pdf_report_date airport  \\\n",
       "72513          2024-02     EWR   \n",
       "72534          2024-02     EWR   \n",
       "72899          2024-02     EWR   \n",
       "72555          2024-02     EWR   \n",
       "72760          2024-02     EWR   \n",
       "...                ...     ...   \n",
       "95418          2024-02     HNL   \n",
       "95419          2024-02     HNL   \n",
       "95421          2024-02     HNL   \n",
       "95424          2024-02     HNL   \n",
       "237545         2019-02     YNG   \n",
       "\n",
       "                                                 category year_month  count  \\\n",
       "72513               Expedited Passenger Screening Program    2022-03    582   \n",
       "72534               Expedited Passenger Screening Program    2022-04    567   \n",
       "72899               Expedited Passenger Screening Program    2023-10    535   \n",
       "72555               Expedited Passenger Screening Program    2022-05    495   \n",
       "72760               Expedited Passenger Screening Program    2023-03    489   \n",
       "...                                                   ...        ...    ...   \n",
       "95418   Additional Information Required/Insufficient I...    2023-07      0   \n",
       "95419                                             Airline    2023-07      0   \n",
       "95421                                              Claims    2023-07      0   \n",
       "95424                                               Locks    2023-07      0   \n",
       "237545                                          Screening    2015-12      0   \n",
       "\n",
       "                                                clean_cat clean_cat_status  \n",
       "72513               Expedited Passenger Screening Program         original  \n",
       "72534               Expedited Passenger Screening Program         original  \n",
       "72899               Expedited Passenger Screening Program         original  \n",
       "72555               Expedited Passenger Screening Program         original  \n",
       "72760               Expedited Passenger Screening Program         original  \n",
       "...                                                   ...              ...  \n",
       "95418   Additional Information Required/Insufficient I...         original  \n",
       "95419                                             Airline         original  \n",
       "95421                                              Claims         original  \n",
       "95424                                               Locks         original  \n",
       "237545                                          Screening         original  \n",
       "\n",
       "[237546 rows x 7 columns]"
      ]
     },
     "execution_count": 25,
     "metadata": {},
     "output_type": "execute_result"
    }
   ],
   "source": [
    "complaints_cat_wo_na_airports.sort_values(by=['count'], ascending=False)"
   ]
  },
  {
   "cell_type": "code",
   "execution_count": 76,
   "id": "41e9d5b3",
   "metadata": {},
   "outputs": [
    {
     "data": {
      "text/html": [
       "<div>\n",
       "<style scoped>\n",
       "    .dataframe tbody tr th:only-of-type {\n",
       "        vertical-align: middle;\n",
       "    }\n",
       "\n",
       "    .dataframe tbody tr th {\n",
       "        vertical-align: top;\n",
       "    }\n",
       "\n",
       "    .dataframe thead th {\n",
       "        text-align: right;\n",
       "    }\n",
       "</style>\n",
       "<table border=\"1\" class=\"dataframe\">\n",
       "  <thead>\n",
       "    <tr style=\"text-align: right;\">\n",
       "      <th></th>\n",
       "      <th>pdf_report_date</th>\n",
       "      <th>airport</th>\n",
       "      <th>category</th>\n",
       "      <th>year_month</th>\n",
       "      <th>count</th>\n",
       "      <th>clean_cat</th>\n",
       "      <th>clean_cat_status</th>\n",
       "    </tr>\n",
       "  </thead>\n",
       "  <tbody>\n",
       "    <tr>\n",
       "      <th>72513</th>\n",
       "      <td>2024-02</td>\n",
       "      <td>EWR</td>\n",
       "      <td>Expedited Passenger Screening Program</td>\n",
       "      <td>2022-03</td>\n",
       "      <td>582</td>\n",
       "      <td>Expedited Passenger Screening Program</td>\n",
       "      <td>original</td>\n",
       "    </tr>\n",
       "    <tr>\n",
       "      <th>72534</th>\n",
       "      <td>2024-02</td>\n",
       "      <td>EWR</td>\n",
       "      <td>Expedited Passenger Screening Program</td>\n",
       "      <td>2022-04</td>\n",
       "      <td>567</td>\n",
       "      <td>Expedited Passenger Screening Program</td>\n",
       "      <td>original</td>\n",
       "    </tr>\n",
       "    <tr>\n",
       "      <th>72899</th>\n",
       "      <td>2024-02</td>\n",
       "      <td>EWR</td>\n",
       "      <td>Expedited Passenger Screening Program</td>\n",
       "      <td>2023-10</td>\n",
       "      <td>535</td>\n",
       "      <td>Expedited Passenger Screening Program</td>\n",
       "      <td>original</td>\n",
       "    </tr>\n",
       "    <tr>\n",
       "      <th>72555</th>\n",
       "      <td>2024-02</td>\n",
       "      <td>EWR</td>\n",
       "      <td>Expedited Passenger Screening Program</td>\n",
       "      <td>2022-05</td>\n",
       "      <td>495</td>\n",
       "      <td>Expedited Passenger Screening Program</td>\n",
       "      <td>original</td>\n",
       "    </tr>\n",
       "    <tr>\n",
       "      <th>72760</th>\n",
       "      <td>2024-02</td>\n",
       "      <td>EWR</td>\n",
       "      <td>Expedited Passenger Screening Program</td>\n",
       "      <td>2023-03</td>\n",
       "      <td>489</td>\n",
       "      <td>Expedited Passenger Screening Program</td>\n",
       "      <td>original</td>\n",
       "    </tr>\n",
       "    <tr>\n",
       "      <th>...</th>\n",
       "      <td>...</td>\n",
       "      <td>...</td>\n",
       "      <td>...</td>\n",
       "      <td>...</td>\n",
       "      <td>...</td>\n",
       "      <td>...</td>\n",
       "      <td>...</td>\n",
       "    </tr>\n",
       "    <tr>\n",
       "      <th>95418</th>\n",
       "      <td>2024-02</td>\n",
       "      <td>HNL</td>\n",
       "      <td>Additional Information Required/Insufficient I...</td>\n",
       "      <td>2023-07</td>\n",
       "      <td>0</td>\n",
       "      <td>Additional Information Required/Insufficient I...</td>\n",
       "      <td>original</td>\n",
       "    </tr>\n",
       "    <tr>\n",
       "      <th>95419</th>\n",
       "      <td>2024-02</td>\n",
       "      <td>HNL</td>\n",
       "      <td>Airline</td>\n",
       "      <td>2023-07</td>\n",
       "      <td>0</td>\n",
       "      <td>Airline</td>\n",
       "      <td>original</td>\n",
       "    </tr>\n",
       "    <tr>\n",
       "      <th>95421</th>\n",
       "      <td>2024-02</td>\n",
       "      <td>HNL</td>\n",
       "      <td>Claims</td>\n",
       "      <td>2023-07</td>\n",
       "      <td>0</td>\n",
       "      <td>Claims</td>\n",
       "      <td>original</td>\n",
       "    </tr>\n",
       "    <tr>\n",
       "      <th>95424</th>\n",
       "      <td>2024-02</td>\n",
       "      <td>HNL</td>\n",
       "      <td>Locks</td>\n",
       "      <td>2023-07</td>\n",
       "      <td>0</td>\n",
       "      <td>Locks</td>\n",
       "      <td>original</td>\n",
       "    </tr>\n",
       "    <tr>\n",
       "      <th>237545</th>\n",
       "      <td>2019-02</td>\n",
       "      <td>YNG</td>\n",
       "      <td>Screening</td>\n",
       "      <td>2015-12</td>\n",
       "      <td>0</td>\n",
       "      <td>Screening</td>\n",
       "      <td>original</td>\n",
       "    </tr>\n",
       "  </tbody>\n",
       "</table>\n",
       "<p>237546 rows × 7 columns</p>\n",
       "</div>"
      ],
      "text/plain": [
       "       pdf_report_date airport  \\\n",
       "72513          2024-02     EWR   \n",
       "72534          2024-02     EWR   \n",
       "72899          2024-02     EWR   \n",
       "72555          2024-02     EWR   \n",
       "72760          2024-02     EWR   \n",
       "...                ...     ...   \n",
       "95418          2024-02     HNL   \n",
       "95419          2024-02     HNL   \n",
       "95421          2024-02     HNL   \n",
       "95424          2024-02     HNL   \n",
       "237545         2019-02     YNG   \n",
       "\n",
       "                                                 category year_month  count  \\\n",
       "72513               Expedited Passenger Screening Program    2022-03    582   \n",
       "72534               Expedited Passenger Screening Program    2022-04    567   \n",
       "72899               Expedited Passenger Screening Program    2023-10    535   \n",
       "72555               Expedited Passenger Screening Program    2022-05    495   \n",
       "72760               Expedited Passenger Screening Program    2023-03    489   \n",
       "...                                                   ...        ...    ...   \n",
       "95418   Additional Information Required/Insufficient I...    2023-07      0   \n",
       "95419                                             Airline    2023-07      0   \n",
       "95421                                              Claims    2023-07      0   \n",
       "95424                                               Locks    2023-07      0   \n",
       "237545                                          Screening    2015-12      0   \n",
       "\n",
       "                                                clean_cat clean_cat_status  \n",
       "72513               Expedited Passenger Screening Program         original  \n",
       "72534               Expedited Passenger Screening Program         original  \n",
       "72899               Expedited Passenger Screening Program         original  \n",
       "72555               Expedited Passenger Screening Program         original  \n",
       "72760               Expedited Passenger Screening Program         original  \n",
       "...                                                   ...              ...  \n",
       "95418   Additional Information Required/Insufficient I...         original  \n",
       "95419                                             Airline         original  \n",
       "95421                                              Claims         original  \n",
       "95424                                               Locks         original  \n",
       "237545                                          Screening         original  \n",
       "\n",
       "[237546 rows x 7 columns]"
      ]
     },
     "execution_count": 76,
     "metadata": {},
     "output_type": "execute_result"
    }
   ],
   "source": [
    "complaints_cat_wo_na_airports.sort_values(by=['count'], ascending=False)"
   ]
  },
  {
   "cell_type": "code",
   "execution_count": 27,
   "id": "c545faba",
   "metadata": {},
   "outputs": [],
   "source": [
    "complaints_cat_disability = complaints_cat_wo_na_airports[complaints_cat_wo_na_airports[\n",
    "    'clean_cat'].isin(['Persons w/ Disabilities (PWD)'])]"
   ]
  },
  {
   "cell_type": "code",
   "execution_count": 28,
   "id": "9b1691b9",
   "metadata": {},
   "outputs": [
    {
     "data": {
      "text/html": [
       "<div>\n",
       "<style scoped>\n",
       "    .dataframe tbody tr th:only-of-type {\n",
       "        vertical-align: middle;\n",
       "    }\n",
       "\n",
       "    .dataframe tbody tr th {\n",
       "        vertical-align: top;\n",
       "    }\n",
       "\n",
       "    .dataframe thead th {\n",
       "        text-align: right;\n",
       "    }\n",
       "</style>\n",
       "<table border=\"1\" class=\"dataframe\">\n",
       "  <thead>\n",
       "    <tr style=\"text-align: right;\">\n",
       "      <th></th>\n",
       "      <th>pdf_report_date</th>\n",
       "      <th>airport</th>\n",
       "      <th>category</th>\n",
       "      <th>year_month</th>\n",
       "      <th>count</th>\n",
       "      <th>clean_cat</th>\n",
       "      <th>clean_cat_status</th>\n",
       "    </tr>\n",
       "  </thead>\n",
       "  <tbody>\n",
       "    <tr>\n",
       "      <th>239</th>\n",
       "      <td>2021-06</td>\n",
       "      <td>ABE</td>\n",
       "      <td>Persons w/ Disabilities (PWD)</td>\n",
       "      <td>2018-10</td>\n",
       "      <td>0</td>\n",
       "      <td>Persons w/ Disabilities (PWD)</td>\n",
       "      <td>original</td>\n",
       "    </tr>\n",
       "    <tr>\n",
       "      <th>247</th>\n",
       "      <td>2021-06</td>\n",
       "      <td>ABE</td>\n",
       "      <td>Persons w/ Disabilities (PWD)</td>\n",
       "      <td>2018-11</td>\n",
       "      <td>0</td>\n",
       "      <td>Persons w/ Disabilities (PWD)</td>\n",
       "      <td>original</td>\n",
       "    </tr>\n",
       "    <tr>\n",
       "      <th>255</th>\n",
       "      <td>2021-06</td>\n",
       "      <td>ABE</td>\n",
       "      <td>Persons w/ Disabilities (PWD)</td>\n",
       "      <td>2018-12</td>\n",
       "      <td>0</td>\n",
       "      <td>Persons w/ Disabilities (PWD)</td>\n",
       "      <td>original</td>\n",
       "    </tr>\n",
       "    <tr>\n",
       "      <th>263</th>\n",
       "      <td>2022-05</td>\n",
       "      <td>ABE</td>\n",
       "      <td>Persons w/ Disabilities (PWD)</td>\n",
       "      <td>2019-01</td>\n",
       "      <td>0</td>\n",
       "      <td>Persons w/ Disabilities (PWD)</td>\n",
       "      <td>original</td>\n",
       "    </tr>\n",
       "    <tr>\n",
       "      <th>271</th>\n",
       "      <td>2022-05</td>\n",
       "      <td>ABE</td>\n",
       "      <td>Persons w/ Disabilities (PWD)</td>\n",
       "      <td>2019-02</td>\n",
       "      <td>0</td>\n",
       "      <td>Persons w/ Disabilities (PWD)</td>\n",
       "      <td>original</td>\n",
       "    </tr>\n",
       "    <tr>\n",
       "      <th>...</th>\n",
       "      <td>...</td>\n",
       "      <td>...</td>\n",
       "      <td>...</td>\n",
       "      <td>...</td>\n",
       "      <td>...</td>\n",
       "      <td>...</td>\n",
       "      <td>...</td>\n",
       "    </tr>\n",
       "    <tr>\n",
       "      <th>237455</th>\n",
       "      <td>2023-05</td>\n",
       "      <td>YKM</td>\n",
       "      <td>Persons w/ Disabilities (PWD)</td>\n",
       "      <td>2021-07</td>\n",
       "      <td>0</td>\n",
       "      <td>Persons w/ Disabilities (PWD)</td>\n",
       "      <td>original</td>\n",
       "    </tr>\n",
       "    <tr>\n",
       "      <th>237459</th>\n",
       "      <td>2023-05</td>\n",
       "      <td>YKM</td>\n",
       "      <td>Persons w/ Disabilities (PWD)</td>\n",
       "      <td>2021-08</td>\n",
       "      <td>0</td>\n",
       "      <td>Persons w/ Disabilities (PWD)</td>\n",
       "      <td>original</td>\n",
       "    </tr>\n",
       "    <tr>\n",
       "      <th>237536</th>\n",
       "      <td>2019-02</td>\n",
       "      <td>YNG</td>\n",
       "      <td>Persons w/ Disabilities (PWD)</td>\n",
       "      <td>2015-10</td>\n",
       "      <td>1</td>\n",
       "      <td>Persons w/ Disabilities (PWD)</td>\n",
       "      <td>original</td>\n",
       "    </tr>\n",
       "    <tr>\n",
       "      <th>237540</th>\n",
       "      <td>2019-02</td>\n",
       "      <td>YNG</td>\n",
       "      <td>Persons w/ Disabilities (PWD)</td>\n",
       "      <td>2015-11</td>\n",
       "      <td>0</td>\n",
       "      <td>Persons w/ Disabilities (PWD)</td>\n",
       "      <td>original</td>\n",
       "    </tr>\n",
       "    <tr>\n",
       "      <th>237544</th>\n",
       "      <td>2019-02</td>\n",
       "      <td>YNG</td>\n",
       "      <td>Persons w/ Disabilities (PWD)</td>\n",
       "      <td>2015-12</td>\n",
       "      <td>0</td>\n",
       "      <td>Persons w/ Disabilities (PWD)</td>\n",
       "      <td>original</td>\n",
       "    </tr>\n",
       "  </tbody>\n",
       "</table>\n",
       "<p>18413 rows × 7 columns</p>\n",
       "</div>"
      ],
      "text/plain": [
       "       pdf_report_date airport                       category year_month  \\\n",
       "239            2021-06     ABE  Persons w/ Disabilities (PWD)    2018-10   \n",
       "247            2021-06     ABE  Persons w/ Disabilities (PWD)    2018-11   \n",
       "255            2021-06     ABE  Persons w/ Disabilities (PWD)    2018-12   \n",
       "263            2022-05     ABE  Persons w/ Disabilities (PWD)    2019-01   \n",
       "271            2022-05     ABE  Persons w/ Disabilities (PWD)    2019-02   \n",
       "...                ...     ...                            ...        ...   \n",
       "237455         2023-05     YKM  Persons w/ Disabilities (PWD)    2021-07   \n",
       "237459         2023-05     YKM  Persons w/ Disabilities (PWD)    2021-08   \n",
       "237536         2019-02     YNG  Persons w/ Disabilities (PWD)    2015-10   \n",
       "237540         2019-02     YNG  Persons w/ Disabilities (PWD)    2015-11   \n",
       "237544         2019-02     YNG  Persons w/ Disabilities (PWD)    2015-12   \n",
       "\n",
       "        count                      clean_cat clean_cat_status  \n",
       "239         0  Persons w/ Disabilities (PWD)         original  \n",
       "247         0  Persons w/ Disabilities (PWD)         original  \n",
       "255         0  Persons w/ Disabilities (PWD)         original  \n",
       "263         0  Persons w/ Disabilities (PWD)         original  \n",
       "271         0  Persons w/ Disabilities (PWD)         original  \n",
       "...       ...                            ...              ...  \n",
       "237455      0  Persons w/ Disabilities (PWD)         original  \n",
       "237459      0  Persons w/ Disabilities (PWD)         original  \n",
       "237536      1  Persons w/ Disabilities (PWD)         original  \n",
       "237540      0  Persons w/ Disabilities (PWD)         original  \n",
       "237544      0  Persons w/ Disabilities (PWD)         original  \n",
       "\n",
       "[18413 rows x 7 columns]"
      ]
     },
     "execution_count": 28,
     "metadata": {},
     "output_type": "execute_result"
    }
   ],
   "source": [
    "complaints_cat_disability"
   ]
  },
  {
   "cell_type": "code",
   "execution_count": 29,
   "id": "b19891b6",
   "metadata": {},
   "outputs": [],
   "source": [
    "complaints_cat_disability = complaints_cat_disability[complaints_cat_disability['count'] != 0]"
   ]
  },
  {
   "cell_type": "code",
   "execution_count": 30,
   "id": "2b30c6f1",
   "metadata": {},
   "outputs": [
    {
     "data": {
      "text/plain": [
       "airport\n",
       "LAX    107\n",
       "DEN    106\n",
       "MCO    104\n",
       "ATL    103\n",
       "JFK    102\n",
       "      ... \n",
       "LEB      1\n",
       "LCH      1\n",
       "LAR      1\n",
       "JHM      1\n",
       "YNG      1\n",
       "Name: count, Length: 333, dtype: int64"
      ]
     },
     "execution_count": 30,
     "metadata": {},
     "output_type": "execute_result"
    }
   ],
   "source": [
    "complaints_cat_disability['airport'].value_counts()"
   ]
  },
  {
   "cell_type": "markdown",
   "id": "bed83f34",
   "metadata": {},
   "source": [
    "### By Subcategory"
   ]
  },
  {
   "cell_type": "code",
   "execution_count": 31,
   "id": "2ce98ac7",
   "metadata": {},
   "outputs": [
    {
     "data": {
      "text/html": [
       "<div>\n",
       "<style scoped>\n",
       "    .dataframe tbody tr th:only-of-type {\n",
       "        vertical-align: middle;\n",
       "    }\n",
       "\n",
       "    .dataframe tbody tr th {\n",
       "        vertical-align: top;\n",
       "    }\n",
       "\n",
       "    .dataframe thead th {\n",
       "        text-align: right;\n",
       "    }\n",
       "</style>\n",
       "<table border=\"1\" class=\"dataframe\">\n",
       "  <thead>\n",
       "    <tr style=\"text-align: right;\">\n",
       "      <th></th>\n",
       "      <th>pdf_report_date</th>\n",
       "      <th>airport</th>\n",
       "      <th>category</th>\n",
       "      <th>subcategory</th>\n",
       "      <th>year_month</th>\n",
       "      <th>count</th>\n",
       "      <th>clean_cat</th>\n",
       "      <th>clean_subcat</th>\n",
       "      <th>clean_cat_status</th>\n",
       "      <th>clean_subcat_status</th>\n",
       "      <th>is_category_prefix_removed</th>\n",
       "    </tr>\n",
       "  </thead>\n",
       "  <tbody>\n",
       "    <tr>\n",
       "      <th>0</th>\n",
       "      <td>2019-02</td>\n",
       "      <td>ABE</td>\n",
       "      <td>Hazardous Materials Safety</td>\n",
       "      <td>General</td>\n",
       "      <td>2015-01</td>\n",
       "      <td>0</td>\n",
       "      <td>Hazardous Materials Safety</td>\n",
       "      <td>General</td>\n",
       "      <td>original</td>\n",
       "      <td>original</td>\n",
       "      <td>False</td>\n",
       "    </tr>\n",
       "    <tr>\n",
       "      <th>1</th>\n",
       "      <td>2019-02</td>\n",
       "      <td>ABE</td>\n",
       "      <td>Mishandling of Passenger Property</td>\n",
       "      <td>Damaged/Missing Items--Checked Baggage</td>\n",
       "      <td>2015-01</td>\n",
       "      <td>0</td>\n",
       "      <td>Mishandling of Passenger Property</td>\n",
       "      <td>*Damaged/Missing Items--Checked Baggage</td>\n",
       "      <td>original</td>\n",
       "      <td>original</td>\n",
       "      <td>False</td>\n",
       "    </tr>\n",
       "    <tr>\n",
       "      <th>2</th>\n",
       "      <td>2019-02</td>\n",
       "      <td>ABE</td>\n",
       "      <td>Hazardous Materials Safety</td>\n",
       "      <td>General</td>\n",
       "      <td>2015-02</td>\n",
       "      <td>0</td>\n",
       "      <td>Hazardous Materials Safety</td>\n",
       "      <td>General</td>\n",
       "      <td>original</td>\n",
       "      <td>original</td>\n",
       "      <td>False</td>\n",
       "    </tr>\n",
       "    <tr>\n",
       "      <th>3</th>\n",
       "      <td>2019-02</td>\n",
       "      <td>ABE</td>\n",
       "      <td>Mishandling of Passenger Property</td>\n",
       "      <td>Damaged/Missing Items--Checked Baggage</td>\n",
       "      <td>2015-02</td>\n",
       "      <td>0</td>\n",
       "      <td>Mishandling of Passenger Property</td>\n",
       "      <td>*Damaged/Missing Items--Checked Baggage</td>\n",
       "      <td>original</td>\n",
       "      <td>original</td>\n",
       "      <td>False</td>\n",
       "    </tr>\n",
       "    <tr>\n",
       "      <th>4</th>\n",
       "      <td>2019-02</td>\n",
       "      <td>ABE</td>\n",
       "      <td>Hazardous Materials Safety</td>\n",
       "      <td>General</td>\n",
       "      <td>2015-03</td>\n",
       "      <td>0</td>\n",
       "      <td>Hazardous Materials Safety</td>\n",
       "      <td>General</td>\n",
       "      <td>original</td>\n",
       "      <td>original</td>\n",
       "      <td>False</td>\n",
       "    </tr>\n",
       "  </tbody>\n",
       "</table>\n",
       "</div>"
      ],
      "text/plain": [
       "  pdf_report_date airport                           category  \\\n",
       "0         2019-02     ABE         Hazardous Materials Safety   \n",
       "1         2019-02     ABE  Mishandling of Passenger Property   \n",
       "2         2019-02     ABE         Hazardous Materials Safety   \n",
       "3         2019-02     ABE  Mishandling of Passenger Property   \n",
       "4         2019-02     ABE         Hazardous Materials Safety   \n",
       "\n",
       "                              subcategory year_month  count  \\\n",
       "0                                 General    2015-01      0   \n",
       "1  Damaged/Missing Items--Checked Baggage    2015-01      0   \n",
       "2                                 General    2015-02      0   \n",
       "3  Damaged/Missing Items--Checked Baggage    2015-02      0   \n",
       "4                                 General    2015-03      0   \n",
       "\n",
       "                           clean_cat                             clean_subcat  \\\n",
       "0         Hazardous Materials Safety                                  General   \n",
       "1  Mishandling of Passenger Property  *Damaged/Missing Items--Checked Baggage   \n",
       "2         Hazardous Materials Safety                                  General   \n",
       "3  Mishandling of Passenger Property  *Damaged/Missing Items--Checked Baggage   \n",
       "4         Hazardous Materials Safety                                  General   \n",
       "\n",
       "  clean_cat_status clean_subcat_status  is_category_prefix_removed  \n",
       "0         original            original                       False  \n",
       "1         original            original                       False  \n",
       "2         original            original                       False  \n",
       "3         original            original                       False  \n",
       "4         original            original                       False  "
      ]
     },
     "execution_count": 31,
     "metadata": {},
     "output_type": "execute_result"
    }
   ],
   "source": [
    "complaints_subcat.head()"
   ]
  },
  {
   "cell_type": "code",
   "execution_count": 32,
   "id": "de8fadd6",
   "metadata": {},
   "outputs": [
    {
     "data": {
      "text/plain": [
       "clean_subcat\n",
       "TSO                                         27987\n",
       "Procedures/Process                          26839\n",
       "General                                     20721\n",
       "*Damaged/Missing Items--Checked Baggage     19631\n",
       "Flyer                                       18742\n",
       "                                            ...  \n",
       "Newspaper, Radio, TV Representatives           15\n",
       "Knitting/Crochet Hooks/Needles                 15\n",
       "Transfer to Ombudsman                          12\n",
       "Crewmember Self Defense Training (CMSDT)       12\n",
       "Wage Garnishment                               12\n",
       "Name: count, Length: 146, dtype: int64"
      ]
     },
     "execution_count": 32,
     "metadata": {},
     "output_type": "execute_result"
    }
   ],
   "source": [
    "complaints_subcat['clean_subcat'].value_counts()"
   ]
  },
  {
   "cell_type": "code",
   "execution_count": 33,
   "id": "97604bb9",
   "metadata": {},
   "outputs": [],
   "source": [
    "complaints_subcat_wo_na_airports = complaints_subcat.dropna()"
   ]
  },
  {
   "cell_type": "code",
   "execution_count": 34,
   "id": "61084e1a",
   "metadata": {},
   "outputs": [
    {
     "data": {
      "text/html": [
       "<div>\n",
       "<style scoped>\n",
       "    .dataframe tbody tr th:only-of-type {\n",
       "        vertical-align: middle;\n",
       "    }\n",
       "\n",
       "    .dataframe tbody tr th {\n",
       "        vertical-align: top;\n",
       "    }\n",
       "\n",
       "    .dataframe thead th {\n",
       "        text-align: right;\n",
       "    }\n",
       "</style>\n",
       "<table border=\"1\" class=\"dataframe\">\n",
       "  <thead>\n",
       "    <tr style=\"text-align: right;\">\n",
       "      <th></th>\n",
       "      <th>pdf_report_date</th>\n",
       "      <th>airport</th>\n",
       "      <th>category</th>\n",
       "      <th>subcategory</th>\n",
       "      <th>year_month</th>\n",
       "      <th>count</th>\n",
       "      <th>clean_cat</th>\n",
       "      <th>clean_subcat</th>\n",
       "      <th>clean_cat_status</th>\n",
       "      <th>clean_subcat_status</th>\n",
       "      <th>is_category_prefix_removed</th>\n",
       "    </tr>\n",
       "  </thead>\n",
       "  <tbody>\n",
       "    <tr>\n",
       "      <th>149044</th>\n",
       "      <td>2024-02</td>\n",
       "      <td>EWR</td>\n",
       "      <td>Expedited Passenger Screening Program</td>\n",
       "      <td>Expedited Passenger Screening Program</td>\n",
       "      <td>2022-03</td>\n",
       "      <td>568</td>\n",
       "      <td>Expedited Passenger Screening Program</td>\n",
       "      <td>*</td>\n",
       "      <td>original</td>\n",
       "      <td>ambiguous</td>\n",
       "      <td>True</td>\n",
       "    </tr>\n",
       "    <tr>\n",
       "      <th>149126</th>\n",
       "      <td>2024-02</td>\n",
       "      <td>EWR</td>\n",
       "      <td>Expedited Passenger Screening Program</td>\n",
       "      <td>Expedited Passenger Screening Program</td>\n",
       "      <td>2022-04</td>\n",
       "      <td>548</td>\n",
       "      <td>Expedited Passenger Screening Program</td>\n",
       "      <td>*</td>\n",
       "      <td>original</td>\n",
       "      <td>ambiguous</td>\n",
       "      <td>True</td>\n",
       "    </tr>\n",
       "    <tr>\n",
       "      <th>150424</th>\n",
       "      <td>2024-02</td>\n",
       "      <td>EWR</td>\n",
       "      <td>Expedited Passenger Screening Program</td>\n",
       "      <td>Expedited Passenger Screening Program</td>\n",
       "      <td>2023-10</td>\n",
       "      <td>528</td>\n",
       "      <td>Expedited Passenger Screening Program</td>\n",
       "      <td>*</td>\n",
       "      <td>original</td>\n",
       "      <td>ambiguous</td>\n",
       "      <td>True</td>\n",
       "    </tr>\n",
       "    <tr>\n",
       "      <th>149956</th>\n",
       "      <td>2024-02</td>\n",
       "      <td>EWR</td>\n",
       "      <td>Expedited Passenger Screening Program</td>\n",
       "      <td>Expedited Passenger Screening Program</td>\n",
       "      <td>2023-03</td>\n",
       "      <td>481</td>\n",
       "      <td>Expedited Passenger Screening Program</td>\n",
       "      <td>*</td>\n",
       "      <td>original</td>\n",
       "      <td>ambiguous</td>\n",
       "      <td>True</td>\n",
       "    </tr>\n",
       "    <tr>\n",
       "      <th>149208</th>\n",
       "      <td>2024-02</td>\n",
       "      <td>EWR</td>\n",
       "      <td>Expedited Passenger Screening Program</td>\n",
       "      <td>Expedited Passenger Screening Program</td>\n",
       "      <td>2022-05</td>\n",
       "      <td>469</td>\n",
       "      <td>Expedited Passenger Screening Program</td>\n",
       "      <td>*</td>\n",
       "      <td>original</td>\n",
       "      <td>ambiguous</td>\n",
       "      <td>True</td>\n",
       "    </tr>\n",
       "    <tr>\n",
       "      <th>...</th>\n",
       "      <td>...</td>\n",
       "      <td>...</td>\n",
       "      <td>...</td>\n",
       "      <td>...</td>\n",
       "      <td>...</td>\n",
       "      <td>...</td>\n",
       "      <td>...</td>\n",
       "      <td>...</td>\n",
       "      <td>...</td>\n",
       "      <td>...</td>\n",
       "      <td>...</td>\n",
       "    </tr>\n",
       "    <tr>\n",
       "      <th>187942</th>\n",
       "      <td>2023-05</td>\n",
       "      <td>HNL</td>\n",
       "      <td>Property - Special Handling</td>\n",
       "      <td>Property - Special Handling - Damaged Items - ...</td>\n",
       "      <td>2020-12</td>\n",
       "      <td>0</td>\n",
       "      <td>Property - Special Handling</td>\n",
       "      <td>*Damaged Items - Checked</td>\n",
       "      <td>original</td>\n",
       "      <td>imputed</td>\n",
       "      <td>True</td>\n",
       "    </tr>\n",
       "    <tr>\n",
       "      <th>187941</th>\n",
       "      <td>2023-05</td>\n",
       "      <td>HNL</td>\n",
       "      <td>Property - Special Handling</td>\n",
       "      <td>Property - Special Handling - Damaged Items - ...</td>\n",
       "      <td>2020-12</td>\n",
       "      <td>0</td>\n",
       "      <td>Property - Special Handling</td>\n",
       "      <td>*Damaged Items - Carry-On</td>\n",
       "      <td>original</td>\n",
       "      <td>original</td>\n",
       "      <td>True</td>\n",
       "    </tr>\n",
       "    <tr>\n",
       "      <th>187939</th>\n",
       "      <td>2023-05</td>\n",
       "      <td>HNL</td>\n",
       "      <td>Prohibited &amp; Permitted Items</td>\n",
       "      <td>Prohibited &amp; Permitted Items - Knives/Tools/Ra...</td>\n",
       "      <td>2020-12</td>\n",
       "      <td>0</td>\n",
       "      <td>Prohibited &amp; Permitted Items</td>\n",
       "      <td>Knives/Tools/Razors/Sharp Objects</td>\n",
       "      <td>original</td>\n",
       "      <td>original</td>\n",
       "      <td>True</td>\n",
       "    </tr>\n",
       "    <tr>\n",
       "      <th>187938</th>\n",
       "      <td>2023-05</td>\n",
       "      <td>HNL</td>\n",
       "      <td>Prohibited &amp; Permitted Items</td>\n",
       "      <td>Prohibited &amp; Permitted Items - Food/Beverages</td>\n",
       "      <td>2020-12</td>\n",
       "      <td>0</td>\n",
       "      <td>Prohibited &amp; Permitted Items</td>\n",
       "      <td>Food/Beverages</td>\n",
       "      <td>original</td>\n",
       "      <td>original</td>\n",
       "      <td>True</td>\n",
       "    </tr>\n",
       "    <tr>\n",
       "      <th>491047</th>\n",
       "      <td>2019-02</td>\n",
       "      <td>YNG</td>\n",
       "      <td>Screening</td>\n",
       "      <td>Procedures/Process</td>\n",
       "      <td>2015-12</td>\n",
       "      <td>0</td>\n",
       "      <td>Screening</td>\n",
       "      <td>Procedures/Process</td>\n",
       "      <td>original</td>\n",
       "      <td>original</td>\n",
       "      <td>False</td>\n",
       "    </tr>\n",
       "  </tbody>\n",
       "</table>\n",
       "<p>491048 rows × 11 columns</p>\n",
       "</div>"
      ],
      "text/plain": [
       "       pdf_report_date airport                               category  \\\n",
       "149044         2024-02     EWR  Expedited Passenger Screening Program   \n",
       "149126         2024-02     EWR  Expedited Passenger Screening Program   \n",
       "150424         2024-02     EWR  Expedited Passenger Screening Program   \n",
       "149956         2024-02     EWR  Expedited Passenger Screening Program   \n",
       "149208         2024-02     EWR  Expedited Passenger Screening Program   \n",
       "...                ...     ...                                    ...   \n",
       "187942         2023-05     HNL            Property - Special Handling   \n",
       "187941         2023-05     HNL            Property - Special Handling   \n",
       "187939         2023-05     HNL           Prohibited & Permitted Items   \n",
       "187938         2023-05     HNL           Prohibited & Permitted Items   \n",
       "491047         2019-02     YNG                              Screening   \n",
       "\n",
       "                                              subcategory year_month  count  \\\n",
       "149044              Expedited Passenger Screening Program    2022-03    568   \n",
       "149126              Expedited Passenger Screening Program    2022-04    548   \n",
       "150424              Expedited Passenger Screening Program    2023-10    528   \n",
       "149956              Expedited Passenger Screening Program    2023-03    481   \n",
       "149208              Expedited Passenger Screening Program    2022-05    469   \n",
       "...                                                   ...        ...    ...   \n",
       "187942  Property - Special Handling - Damaged Items - ...    2020-12      0   \n",
       "187941  Property - Special Handling - Damaged Items - ...    2020-12      0   \n",
       "187939  Prohibited & Permitted Items - Knives/Tools/Ra...    2020-12      0   \n",
       "187938      Prohibited & Permitted Items - Food/Beverages    2020-12      0   \n",
       "491047                                 Procedures/Process    2015-12      0   \n",
       "\n",
       "                                    clean_cat  \\\n",
       "149044  Expedited Passenger Screening Program   \n",
       "149126  Expedited Passenger Screening Program   \n",
       "150424  Expedited Passenger Screening Program   \n",
       "149956  Expedited Passenger Screening Program   \n",
       "149208  Expedited Passenger Screening Program   \n",
       "...                                       ...   \n",
       "187942            Property - Special Handling   \n",
       "187941            Property - Special Handling   \n",
       "187939           Prohibited & Permitted Items   \n",
       "187938           Prohibited & Permitted Items   \n",
       "491047                              Screening   \n",
       "\n",
       "                             clean_subcat clean_cat_status  \\\n",
       "149044                                  *         original   \n",
       "149126                                  *         original   \n",
       "150424                                  *         original   \n",
       "149956                                  *         original   \n",
       "149208                                  *         original   \n",
       "...                                   ...              ...   \n",
       "187942           *Damaged Items - Checked         original   \n",
       "187941          *Damaged Items - Carry-On         original   \n",
       "187939  Knives/Tools/Razors/Sharp Objects         original   \n",
       "187938                     Food/Beverages         original   \n",
       "491047                 Procedures/Process         original   \n",
       "\n",
       "       clean_subcat_status  is_category_prefix_removed  \n",
       "149044           ambiguous                        True  \n",
       "149126           ambiguous                        True  \n",
       "150424           ambiguous                        True  \n",
       "149956           ambiguous                        True  \n",
       "149208           ambiguous                        True  \n",
       "...                    ...                         ...  \n",
       "187942             imputed                        True  \n",
       "187941            original                        True  \n",
       "187939            original                        True  \n",
       "187938            original                        True  \n",
       "491047            original                       False  \n",
       "\n",
       "[491048 rows x 11 columns]"
      ]
     },
     "execution_count": 34,
     "metadata": {},
     "output_type": "execute_result"
    }
   ],
   "source": [
    "complaints_subcat_wo_na_airports.sort_values(by=['count'], ascending=False)"
   ]
  },
  {
   "cell_type": "code",
   "execution_count": 35,
   "id": "92ea83ed",
   "metadata": {},
   "outputs": [],
   "source": [
    "complaints_subcat_disability = complaints_subcat_wo_na_airports[\n",
    "    complaints_subcat_wo_na_airports['clean_cat'].isin(['Persons w/ Disabilities (PWD)'])]"
   ]
  },
  {
   "cell_type": "code",
   "execution_count": 36,
   "id": "cc969938",
   "metadata": {},
   "outputs": [],
   "source": [
    "complaints_subcat_disability = complaints_subcat_disability[complaints_subcat_disability['count'] != 0]"
   ]
  },
  {
   "cell_type": "code",
   "execution_count": 37,
   "id": "254621d8",
   "metadata": {},
   "outputs": [
    {
     "data": {
      "text/plain": [
       "airport  clean_subcat                                       \n",
       "MCO      Medically Necessary Medication and Medical Supplies    71\n",
       "LAS      Wheelchair/ Scooter/ Segway                            68\n",
       "MCO      Wheelchair/ Scooter/ Segway                            68\n",
       "LAX      Medically Necessary Medication and Medical Supplies    63\n",
       "DEN      Wheelchair/ Scooter/ Segway                            62\n",
       "                                                                ..\n",
       "ITO      Diabetes                                                1\n",
       "         Cognitive /Developmental /Mental Disability             1\n",
       "ITH      Mobility Disability (Not Wheelchair or Scooter)         1\n",
       "ISP      Wheelchair/ Scooter/ Segway                             1\n",
       "YNG      Metal Implants (joint)                                  1\n",
       "Name: count, Length: 2570, dtype: int64"
      ]
     },
     "execution_count": 37,
     "metadata": {},
     "output_type": "execute_result"
    }
   ],
   "source": [
    "complaints_subcat_disability[['airport','clean_subcat']].value_counts()"
   ]
  },
  {
   "cell_type": "code",
   "execution_count": 38,
   "id": "3fae81d9",
   "metadata": {},
   "outputs": [],
   "source": [
    "complaints_subcat_disability = complaints_subcat_disability[['airport', 'year_month', 'count', 'clean_subcat']]"
   ]
  },
  {
   "cell_type": "code",
   "execution_count": 39,
   "id": "98807c3b",
   "metadata": {},
   "outputs": [
    {
     "data": {
      "text/html": [
       "<div>\n",
       "<style scoped>\n",
       "    .dataframe tbody tr th:only-of-type {\n",
       "        vertical-align: middle;\n",
       "    }\n",
       "\n",
       "    .dataframe tbody tr th {\n",
       "        vertical-align: top;\n",
       "    }\n",
       "\n",
       "    .dataframe thead th {\n",
       "        text-align: right;\n",
       "    }\n",
       "</style>\n",
       "<table border=\"1\" class=\"dataframe\">\n",
       "  <thead>\n",
       "    <tr style=\"text-align: right;\">\n",
       "      <th></th>\n",
       "      <th>airport</th>\n",
       "      <th>year_month</th>\n",
       "      <th>count</th>\n",
       "      <th>clean_subcat</th>\n",
       "    </tr>\n",
       "  </thead>\n",
       "  <tbody>\n",
       "    <tr>\n",
       "      <th>470</th>\n",
       "      <td>ABE</td>\n",
       "      <td>2019-05</td>\n",
       "      <td>2</td>\n",
       "      <td>Mobility Disability (Not Wheelchair or Scooter)</td>\n",
       "    </tr>\n",
       "    <tr>\n",
       "      <th>511</th>\n",
       "      <td>ABE</td>\n",
       "      <td>2019-08</td>\n",
       "      <td>1</td>\n",
       "      <td>Medically Necessary Medication and Medical Sup...</td>\n",
       "    </tr>\n",
       "    <tr>\n",
       "      <th>712</th>\n",
       "      <td>ABE</td>\n",
       "      <td>2021-06</td>\n",
       "      <td>1</td>\n",
       "      <td>Medical Devices - Attached to the Body</td>\n",
       "    </tr>\n",
       "    <tr>\n",
       "      <th>723</th>\n",
       "      <td>ABE</td>\n",
       "      <td>2021-07</td>\n",
       "      <td>1</td>\n",
       "      <td>Medically Necessary Medication and Medical Sup...</td>\n",
       "    </tr>\n",
       "    <tr>\n",
       "      <th>901</th>\n",
       "      <td>ABE</td>\n",
       "      <td>2022-09</td>\n",
       "      <td>1</td>\n",
       "      <td>Diabetes</td>\n",
       "    </tr>\n",
       "    <tr>\n",
       "      <th>...</th>\n",
       "      <td>...</td>\n",
       "      <td>...</td>\n",
       "      <td>...</td>\n",
       "      <td>...</td>\n",
       "    </tr>\n",
       "    <tr>\n",
       "      <th>490730</th>\n",
       "      <td>YKM</td>\n",
       "      <td>2018-08</td>\n",
       "      <td>1</td>\n",
       "      <td>Mobility Disability (Not Wheelchair or Scooter)</td>\n",
       "    </tr>\n",
       "    <tr>\n",
       "      <th>490773</th>\n",
       "      <td>YKM</td>\n",
       "      <td>2019-03</td>\n",
       "      <td>1</td>\n",
       "      <td>Prosthesis/Amputees and Casts</td>\n",
       "    </tr>\n",
       "    <tr>\n",
       "      <th>490918</th>\n",
       "      <td>YKM</td>\n",
       "      <td>2021-06</td>\n",
       "      <td>1</td>\n",
       "      <td>Cognitive /Developmental /Mental Disability</td>\n",
       "    </tr>\n",
       "    <tr>\n",
       "      <th>490919</th>\n",
       "      <td>YKM</td>\n",
       "      <td>2021-06</td>\n",
       "      <td>1</td>\n",
       "      <td>Medically Necessary Medication and Medical Sup...</td>\n",
       "    </tr>\n",
       "    <tr>\n",
       "      <th>491031</th>\n",
       "      <td>YNG</td>\n",
       "      <td>2015-10</td>\n",
       "      <td>1</td>\n",
       "      <td>Metal Implants (joint)</td>\n",
       "    </tr>\n",
       "  </tbody>\n",
       "</table>\n",
       "<p>14002 rows × 4 columns</p>\n",
       "</div>"
      ],
      "text/plain": [
       "       airport year_month  count  \\\n",
       "470        ABE    2019-05      2   \n",
       "511        ABE    2019-08      1   \n",
       "712        ABE    2021-06      1   \n",
       "723        ABE    2021-07      1   \n",
       "901        ABE    2022-09      1   \n",
       "...        ...        ...    ...   \n",
       "490730     YKM    2018-08      1   \n",
       "490773     YKM    2019-03      1   \n",
       "490918     YKM    2021-06      1   \n",
       "490919     YKM    2021-06      1   \n",
       "491031     YNG    2015-10      1   \n",
       "\n",
       "                                             clean_subcat  \n",
       "470       Mobility Disability (Not Wheelchair or Scooter)  \n",
       "511     Medically Necessary Medication and Medical Sup...  \n",
       "712                Medical Devices - Attached to the Body  \n",
       "723     Medically Necessary Medication and Medical Sup...  \n",
       "901                                              Diabetes  \n",
       "...                                                   ...  \n",
       "490730    Mobility Disability (Not Wheelchair or Scooter)  \n",
       "490773                      Prosthesis/Amputees and Casts  \n",
       "490918        Cognitive /Developmental /Mental Disability  \n",
       "490919  Medically Necessary Medication and Medical Sup...  \n",
       "491031                             Metal Implants (joint)  \n",
       "\n",
       "[14002 rows x 4 columns]"
      ]
     },
     "execution_count": 39,
     "metadata": {},
     "output_type": "execute_result"
    }
   ],
   "source": [
    "complaints_subcat_disability"
   ]
  },
  {
   "cell_type": "code",
   "execution_count": 40,
   "id": "a29aff1c",
   "metadata": {},
   "outputs": [
    {
     "data": {
      "text/plain": [
       "16537"
      ]
     },
     "execution_count": 40,
     "metadata": {},
     "output_type": "execute_result"
    }
   ],
   "source": [
    "complaints_subcat_disability['count'].sum()"
   ]
  },
  {
   "cell_type": "code",
   "execution_count": 41,
   "id": "cc551556",
   "metadata": {},
   "outputs": [],
   "source": [
    "subcat_counts = complaints_subcat_disability['clean_subcat'].value_counts().reset_index()"
   ]
  },
  {
   "cell_type": "code",
   "execution_count": 135,
   "id": "978c989a",
   "metadata": {},
   "outputs": [
    {
     "data": {
      "text/plain": [
       "['Wheelchair/ Scooter/ Segway',\n",
       " 'Mobility Disability (Not Wheelchair or Scooter)',\n",
       " 'Medically Necessary Medication and Medical Supplies',\n",
       " 'Diabetes',\n",
       " 'General',\n",
       " 'Metal Implants (joint)',\n",
       " 'Prosthesis/Amputees and Casts',\n",
       " 'Touch Aversion (pain/trauma)',\n",
       " 'Cognitive /Developmental /Mental Disability',\n",
       " 'Internal Medical Devices',\n",
       " 'Autism Spectrum',\n",
       " 'Medical Devices - Attached to the Body',\n",
       " 'Service Animals',\n",
       " 'Hearing Impairment',\n",
       " 'Cancer (general) Not Breast Cancer',\n",
       " 'Ostomy/Ostomates',\n",
       " 'Respiratory and Inhaler Equipment',\n",
       " 'Breast Cancer',\n",
       " 'Visual Impairment',\n",
       " 'Diapers/Garments/Dressings/Masks',\n",
       " 'Wounded Warrior',\n",
       " 'Assistive Technology']"
      ]
     },
     "execution_count": 135,
     "metadata": {},
     "output_type": "execute_result"
    }
   ],
   "source": [
    "subcat_counts['clean_subcat'].to_list()"
   ]
  },
  {
   "cell_type": "code",
   "execution_count": 42,
   "id": "02f5744a",
   "metadata": {},
   "outputs": [],
   "source": [
    "complaints_subcat_disability = complaints_subcat_disability.rename(columns={'airport': 'iata'})"
   ]
  },
  {
   "cell_type": "markdown",
   "id": "619f7699",
   "metadata": {},
   "source": [
    "### Airport Info"
   ]
  },
  {
   "cell_type": "code",
   "execution_count": 43,
   "id": "9adfe163",
   "metadata": {},
   "outputs": [
    {
     "data": {
      "text/html": [
       "<div>\n",
       "<style scoped>\n",
       "    .dataframe tbody tr th:only-of-type {\n",
       "        vertical-align: middle;\n",
       "    }\n",
       "\n",
       "    .dataframe tbody tr th {\n",
       "        vertical-align: top;\n",
       "    }\n",
       "\n",
       "    .dataframe thead th {\n",
       "        text-align: right;\n",
       "    }\n",
       "</style>\n",
       "<table border=\"1\" class=\"dataframe\">\n",
       "  <thead>\n",
       "    <tr style=\"text-align: right;\">\n",
       "      <th></th>\n",
       "      <th>country_code</th>\n",
       "      <th>region_name</th>\n",
       "      <th>iata</th>\n",
       "      <th>icao</th>\n",
       "      <th>airport</th>\n",
       "      <th>latitude</th>\n",
       "      <th>longitude</th>\n",
       "    </tr>\n",
       "  </thead>\n",
       "  <tbody>\n",
       "    <tr>\n",
       "      <th>0</th>\n",
       "      <td>AE</td>\n",
       "      <td>Abu Zaby</td>\n",
       "      <td>AAN</td>\n",
       "      <td>OMAL</td>\n",
       "      <td>Al Ain International Airport</td>\n",
       "      <td>24.2617</td>\n",
       "      <td>55.6092</td>\n",
       "    </tr>\n",
       "    <tr>\n",
       "      <th>1</th>\n",
       "      <td>AE</td>\n",
       "      <td>Abu Zaby</td>\n",
       "      <td>AUH</td>\n",
       "      <td>OMAA</td>\n",
       "      <td>Abu Dhabi International Airport</td>\n",
       "      <td>24.4330</td>\n",
       "      <td>54.6511</td>\n",
       "    </tr>\n",
       "    <tr>\n",
       "      <th>2</th>\n",
       "      <td>AE</td>\n",
       "      <td>Abu Zaby</td>\n",
       "      <td>AYM</td>\n",
       "      <td>NaN</td>\n",
       "      <td>Yas Island Seaplane Base</td>\n",
       "      <td>24.4670</td>\n",
       "      <td>54.6103</td>\n",
       "    </tr>\n",
       "    <tr>\n",
       "      <th>3</th>\n",
       "      <td>AE</td>\n",
       "      <td>Abu Zaby</td>\n",
       "      <td>AZI</td>\n",
       "      <td>OMAD</td>\n",
       "      <td>Al Bateen Executive Airport</td>\n",
       "      <td>24.4283</td>\n",
       "      <td>54.4581</td>\n",
       "    </tr>\n",
       "    <tr>\n",
       "      <th>4</th>\n",
       "      <td>AE</td>\n",
       "      <td>Abu Zaby</td>\n",
       "      <td>DHF</td>\n",
       "      <td>OMAM</td>\n",
       "      <td>Al Dhafra Air Base</td>\n",
       "      <td>24.2482</td>\n",
       "      <td>54.5477</td>\n",
       "    </tr>\n",
       "  </tbody>\n",
       "</table>\n",
       "</div>"
      ],
      "text/plain": [
       "  country_code region_name iata  icao                          airport  \\\n",
       "0           AE    Abu Zaby  AAN  OMAL     Al Ain International Airport   \n",
       "1           AE    Abu Zaby  AUH  OMAA  Abu Dhabi International Airport   \n",
       "2           AE    Abu Zaby  AYM   NaN         Yas Island Seaplane Base   \n",
       "3           AE    Abu Zaby  AZI  OMAD      Al Bateen Executive Airport   \n",
       "4           AE    Abu Zaby  DHF  OMAM               Al Dhafra Air Base   \n",
       "\n",
       "   latitude  longitude  \n",
       "0   24.2617    55.6092  \n",
       "1   24.4330    54.6511  \n",
       "2   24.4670    54.6103  \n",
       "3   24.4283    54.4581  \n",
       "4   24.2482    54.5477  "
      ]
     },
     "execution_count": 43,
     "metadata": {},
     "output_type": "execute_result"
    }
   ],
   "source": [
    "iata_icao.head()"
   ]
  },
  {
   "cell_type": "code",
   "execution_count": 44,
   "id": "036965fe",
   "metadata": {},
   "outputs": [],
   "source": [
    "unique_airports = len(pd.unique(iata_icao['iata']))"
   ]
  },
  {
   "cell_type": "code",
   "execution_count": 45,
   "id": "4525a457",
   "metadata": {},
   "outputs": [],
   "source": [
    "unique_airports = str(unique_airports)"
   ]
  },
  {
   "cell_type": "code",
   "execution_count": 46,
   "id": "d8f56ae8",
   "metadata": {},
   "outputs": [
    {
     "name": "stdout",
     "output_type": "stream",
     "text": [
      "Number of unique airports 8937\n"
     ]
    }
   ],
   "source": [
    "print(\"Number of unique airports \" + unique_airports)"
   ]
  },
  {
   "cell_type": "markdown",
   "id": "801c2c31",
   "metadata": {},
   "source": [
    "### Merged DF"
   ]
  },
  {
   "cell_type": "code",
   "execution_count": 109,
   "id": "97c2e8df",
   "metadata": {},
   "outputs": [],
   "source": [
    "complaints_subcat = complaints_subcat.rename(columns={'airport': 'iata'})"
   ]
  },
  {
   "cell_type": "code",
   "execution_count": 113,
   "id": "1579bd50",
   "metadata": {},
   "outputs": [],
   "source": [
    "region_complaints = pd.merge(complaints_subcat, iata_icao, on=\"iata\")"
   ]
  },
  {
   "cell_type": "code",
   "execution_count": 115,
   "id": "1eab260c",
   "metadata": {},
   "outputs": [],
   "source": [
    "region_complaints = region_complaints[region_complaints['count'] >100]"
   ]
  },
  {
   "cell_type": "code",
   "execution_count": 116,
   "id": "8dcf708b",
   "metadata": {
    "scrolled": true
   },
   "outputs": [
    {
     "data": {
      "text/html": [
       "<div>\n",
       "<style scoped>\n",
       "    .dataframe tbody tr th:only-of-type {\n",
       "        vertical-align: middle;\n",
       "    }\n",
       "\n",
       "    .dataframe tbody tr th {\n",
       "        vertical-align: top;\n",
       "    }\n",
       "\n",
       "    .dataframe thead th {\n",
       "        text-align: right;\n",
       "    }\n",
       "</style>\n",
       "<table border=\"1\" class=\"dataframe\">\n",
       "  <thead>\n",
       "    <tr style=\"text-align: right;\">\n",
       "      <th></th>\n",
       "      <th>pdf_report_date</th>\n",
       "      <th>iata</th>\n",
       "      <th>category</th>\n",
       "      <th>subcategory</th>\n",
       "      <th>year_month</th>\n",
       "      <th>count</th>\n",
       "      <th>clean_cat</th>\n",
       "      <th>clean_subcat</th>\n",
       "      <th>clean_cat_status</th>\n",
       "      <th>clean_subcat_status</th>\n",
       "      <th>is_category_prefix_removed</th>\n",
       "      <th>country_code</th>\n",
       "      <th>region_name</th>\n",
       "      <th>icao</th>\n",
       "      <th>airport</th>\n",
       "      <th>latitude</th>\n",
       "      <th>longitude</th>\n",
       "    </tr>\n",
       "  </thead>\n",
       "  <tbody>\n",
       "    <tr>\n",
       "      <th>23104</th>\n",
       "      <td>2024-02</td>\n",
       "      <td>ATL</td>\n",
       "      <td>Expedited Passenger Screening Program</td>\n",
       "      <td>Expedited Passenger Screening Program</td>\n",
       "      <td>2021-10</td>\n",
       "      <td>112</td>\n",
       "      <td>Expedited Passenger Screening Program</td>\n",
       "      <td>*</td>\n",
       "      <td>original</td>\n",
       "      <td>ambiguous</td>\n",
       "      <td>True</td>\n",
       "      <td>US</td>\n",
       "      <td>Georgia</td>\n",
       "      <td>KATL</td>\n",
       "      <td>Hartsfield-Jackson Atlanta International Airport</td>\n",
       "      <td>33.6367</td>\n",
       "      <td>-84.4281</td>\n",
       "    </tr>\n",
       "    <tr>\n",
       "      <th>23178</th>\n",
       "      <td>2024-02</td>\n",
       "      <td>ATL</td>\n",
       "      <td>Expedited Passenger Screening Program</td>\n",
       "      <td>Expedited Passenger Screening Program</td>\n",
       "      <td>2021-11</td>\n",
       "      <td>154</td>\n",
       "      <td>Expedited Passenger Screening Program</td>\n",
       "      <td>*</td>\n",
       "      <td>original</td>\n",
       "      <td>ambiguous</td>\n",
       "      <td>True</td>\n",
       "      <td>US</td>\n",
       "      <td>Georgia</td>\n",
       "      <td>KATL</td>\n",
       "      <td>Hartsfield-Jackson Atlanta International Airport</td>\n",
       "      <td>33.6367</td>\n",
       "      <td>-84.4281</td>\n",
       "    </tr>\n",
       "    <tr>\n",
       "      <th>23252</th>\n",
       "      <td>2024-02</td>\n",
       "      <td>ATL</td>\n",
       "      <td>Expedited Passenger Screening Program</td>\n",
       "      <td>Expedited Passenger Screening Program</td>\n",
       "      <td>2021-12</td>\n",
       "      <td>183</td>\n",
       "      <td>Expedited Passenger Screening Program</td>\n",
       "      <td>*</td>\n",
       "      <td>original</td>\n",
       "      <td>ambiguous</td>\n",
       "      <td>True</td>\n",
       "      <td>US</td>\n",
       "      <td>Georgia</td>\n",
       "      <td>KATL</td>\n",
       "      <td>Hartsfield-Jackson Atlanta International Airport</td>\n",
       "      <td>33.6367</td>\n",
       "      <td>-84.4281</td>\n",
       "    </tr>\n",
       "    <tr>\n",
       "      <th>23326</th>\n",
       "      <td>2024-02</td>\n",
       "      <td>ATL</td>\n",
       "      <td>Expedited Passenger Screening Program</td>\n",
       "      <td>Expedited Passenger Screening Program</td>\n",
       "      <td>2022-01</td>\n",
       "      <td>133</td>\n",
       "      <td>Expedited Passenger Screening Program</td>\n",
       "      <td>*</td>\n",
       "      <td>original</td>\n",
       "      <td>ambiguous</td>\n",
       "      <td>True</td>\n",
       "      <td>US</td>\n",
       "      <td>Georgia</td>\n",
       "      <td>KATL</td>\n",
       "      <td>Hartsfield-Jackson Atlanta International Airport</td>\n",
       "      <td>33.6367</td>\n",
       "      <td>-84.4281</td>\n",
       "    </tr>\n",
       "    <tr>\n",
       "      <th>23400</th>\n",
       "      <td>2024-02</td>\n",
       "      <td>ATL</td>\n",
       "      <td>Expedited Passenger Screening Program</td>\n",
       "      <td>Expedited Passenger Screening Program</td>\n",
       "      <td>2022-02</td>\n",
       "      <td>176</td>\n",
       "      <td>Expedited Passenger Screening Program</td>\n",
       "      <td>*</td>\n",
       "      <td>original</td>\n",
       "      <td>ambiguous</td>\n",
       "      <td>True</td>\n",
       "      <td>US</td>\n",
       "      <td>Georgia</td>\n",
       "      <td>KATL</td>\n",
       "      <td>Hartsfield-Jackson Atlanta International Airport</td>\n",
       "      <td>33.6367</td>\n",
       "      <td>-84.4281</td>\n",
       "    </tr>\n",
       "    <tr>\n",
       "      <th>...</th>\n",
       "      <td>...</td>\n",
       "      <td>...</td>\n",
       "      <td>...</td>\n",
       "      <td>...</td>\n",
       "      <td>...</td>\n",
       "      <td>...</td>\n",
       "      <td>...</td>\n",
       "      <td>...</td>\n",
       "      <td>...</td>\n",
       "      <td>...</td>\n",
       "      <td>...</td>\n",
       "      <td>...</td>\n",
       "      <td>...</td>\n",
       "      <td>...</td>\n",
       "      <td>...</td>\n",
       "      <td>...</td>\n",
       "      <td>...</td>\n",
       "    </tr>\n",
       "    <tr>\n",
       "      <th>473960</th>\n",
       "      <td>2024-02</td>\n",
       "      <td>TPA</td>\n",
       "      <td>Expedited Passenger Screening Program</td>\n",
       "      <td>Expedited Passenger Screening Program</td>\n",
       "      <td>2023-05</td>\n",
       "      <td>147</td>\n",
       "      <td>Expedited Passenger Screening Program</td>\n",
       "      <td>*</td>\n",
       "      <td>original</td>\n",
       "      <td>ambiguous</td>\n",
       "      <td>True</td>\n",
       "      <td>US</td>\n",
       "      <td>Florida</td>\n",
       "      <td>KTPA</td>\n",
       "      <td>Tampa International Airport</td>\n",
       "      <td>27.9755</td>\n",
       "      <td>-82.5332</td>\n",
       "    </tr>\n",
       "    <tr>\n",
       "      <th>474011</th>\n",
       "      <td>2024-02</td>\n",
       "      <td>TPA</td>\n",
       "      <td>Expedited Passenger Screening Program</td>\n",
       "      <td>Expedited Passenger Screening Program</td>\n",
       "      <td>2023-06</td>\n",
       "      <td>121</td>\n",
       "      <td>Expedited Passenger Screening Program</td>\n",
       "      <td>*</td>\n",
       "      <td>original</td>\n",
       "      <td>ambiguous</td>\n",
       "      <td>True</td>\n",
       "      <td>US</td>\n",
       "      <td>Florida</td>\n",
       "      <td>KTPA</td>\n",
       "      <td>Tampa International Airport</td>\n",
       "      <td>27.9755</td>\n",
       "      <td>-82.5332</td>\n",
       "    </tr>\n",
       "    <tr>\n",
       "      <th>474164</th>\n",
       "      <td>2024-02</td>\n",
       "      <td>TPA</td>\n",
       "      <td>Expedited Passenger Screening Program</td>\n",
       "      <td>Expedited Passenger Screening Program</td>\n",
       "      <td>2023-09</td>\n",
       "      <td>108</td>\n",
       "      <td>Expedited Passenger Screening Program</td>\n",
       "      <td>*</td>\n",
       "      <td>original</td>\n",
       "      <td>ambiguous</td>\n",
       "      <td>True</td>\n",
       "      <td>US</td>\n",
       "      <td>Florida</td>\n",
       "      <td>KTPA</td>\n",
       "      <td>Tampa International Airport</td>\n",
       "      <td>27.9755</td>\n",
       "      <td>-82.5332</td>\n",
       "    </tr>\n",
       "    <tr>\n",
       "      <th>474210</th>\n",
       "      <td>2024-02</td>\n",
       "      <td>TPA</td>\n",
       "      <td>Expedited Passenger Screening Program</td>\n",
       "      <td>Expedited Passenger Screening Program</td>\n",
       "      <td>2023-10</td>\n",
       "      <td>155</td>\n",
       "      <td>Expedited Passenger Screening Program</td>\n",
       "      <td>*</td>\n",
       "      <td>original</td>\n",
       "      <td>ambiguous</td>\n",
       "      <td>True</td>\n",
       "      <td>US</td>\n",
       "      <td>Florida</td>\n",
       "      <td>KTPA</td>\n",
       "      <td>Tampa International Airport</td>\n",
       "      <td>27.9755</td>\n",
       "      <td>-82.5332</td>\n",
       "    </tr>\n",
       "    <tr>\n",
       "      <th>474276</th>\n",
       "      <td>2024-02</td>\n",
       "      <td>TPA</td>\n",
       "      <td>Expedited Passenger Screening Program</td>\n",
       "      <td>Expedited Passenger Screening Program</td>\n",
       "      <td>2023-12</td>\n",
       "      <td>117</td>\n",
       "      <td>Expedited Passenger Screening Program</td>\n",
       "      <td>*</td>\n",
       "      <td>original</td>\n",
       "      <td>ambiguous</td>\n",
       "      <td>True</td>\n",
       "      <td>US</td>\n",
       "      <td>Florida</td>\n",
       "      <td>KTPA</td>\n",
       "      <td>Tampa International Airport</td>\n",
       "      <td>27.9755</td>\n",
       "      <td>-82.5332</td>\n",
       "    </tr>\n",
       "  </tbody>\n",
       "</table>\n",
       "<p>643 rows × 17 columns</p>\n",
       "</div>"
      ],
      "text/plain": [
       "       pdf_report_date iata                               category  \\\n",
       "23104          2024-02  ATL  Expedited Passenger Screening Program   \n",
       "23178          2024-02  ATL  Expedited Passenger Screening Program   \n",
       "23252          2024-02  ATL  Expedited Passenger Screening Program   \n",
       "23326          2024-02  ATL  Expedited Passenger Screening Program   \n",
       "23400          2024-02  ATL  Expedited Passenger Screening Program   \n",
       "...                ...  ...                                    ...   \n",
       "473960         2024-02  TPA  Expedited Passenger Screening Program   \n",
       "474011         2024-02  TPA  Expedited Passenger Screening Program   \n",
       "474164         2024-02  TPA  Expedited Passenger Screening Program   \n",
       "474210         2024-02  TPA  Expedited Passenger Screening Program   \n",
       "474276         2024-02  TPA  Expedited Passenger Screening Program   \n",
       "\n",
       "                                  subcategory year_month  count  \\\n",
       "23104   Expedited Passenger Screening Program    2021-10    112   \n",
       "23178   Expedited Passenger Screening Program    2021-11    154   \n",
       "23252   Expedited Passenger Screening Program    2021-12    183   \n",
       "23326   Expedited Passenger Screening Program    2022-01    133   \n",
       "23400   Expedited Passenger Screening Program    2022-02    176   \n",
       "...                                       ...        ...    ...   \n",
       "473960  Expedited Passenger Screening Program    2023-05    147   \n",
       "474011  Expedited Passenger Screening Program    2023-06    121   \n",
       "474164  Expedited Passenger Screening Program    2023-09    108   \n",
       "474210  Expedited Passenger Screening Program    2023-10    155   \n",
       "474276  Expedited Passenger Screening Program    2023-12    117   \n",
       "\n",
       "                                    clean_cat clean_subcat clean_cat_status  \\\n",
       "23104   Expedited Passenger Screening Program            *         original   \n",
       "23178   Expedited Passenger Screening Program            *         original   \n",
       "23252   Expedited Passenger Screening Program            *         original   \n",
       "23326   Expedited Passenger Screening Program            *         original   \n",
       "23400   Expedited Passenger Screening Program            *         original   \n",
       "...                                       ...          ...              ...   \n",
       "473960  Expedited Passenger Screening Program            *         original   \n",
       "474011  Expedited Passenger Screening Program            *         original   \n",
       "474164  Expedited Passenger Screening Program            *         original   \n",
       "474210  Expedited Passenger Screening Program            *         original   \n",
       "474276  Expedited Passenger Screening Program            *         original   \n",
       "\n",
       "       clean_subcat_status  is_category_prefix_removed country_code  \\\n",
       "23104            ambiguous                        True           US   \n",
       "23178            ambiguous                        True           US   \n",
       "23252            ambiguous                        True           US   \n",
       "23326            ambiguous                        True           US   \n",
       "23400            ambiguous                        True           US   \n",
       "...                    ...                         ...          ...   \n",
       "473960           ambiguous                        True           US   \n",
       "474011           ambiguous                        True           US   \n",
       "474164           ambiguous                        True           US   \n",
       "474210           ambiguous                        True           US   \n",
       "474276           ambiguous                        True           US   \n",
       "\n",
       "       region_name  icao                                           airport  \\\n",
       "23104      Georgia  KATL  Hartsfield-Jackson Atlanta International Airport   \n",
       "23178      Georgia  KATL  Hartsfield-Jackson Atlanta International Airport   \n",
       "23252      Georgia  KATL  Hartsfield-Jackson Atlanta International Airport   \n",
       "23326      Georgia  KATL  Hartsfield-Jackson Atlanta International Airport   \n",
       "23400      Georgia  KATL  Hartsfield-Jackson Atlanta International Airport   \n",
       "...            ...   ...                                               ...   \n",
       "473960     Florida  KTPA                       Tampa International Airport   \n",
       "474011     Florida  KTPA                       Tampa International Airport   \n",
       "474164     Florida  KTPA                       Tampa International Airport   \n",
       "474210     Florida  KTPA                       Tampa International Airport   \n",
       "474276     Florida  KTPA                       Tampa International Airport   \n",
       "\n",
       "        latitude  longitude  \n",
       "23104    33.6367   -84.4281  \n",
       "23178    33.6367   -84.4281  \n",
       "23252    33.6367   -84.4281  \n",
       "23326    33.6367   -84.4281  \n",
       "23400    33.6367   -84.4281  \n",
       "...          ...        ...  \n",
       "473960   27.9755   -82.5332  \n",
       "474011   27.9755   -82.5332  \n",
       "474164   27.9755   -82.5332  \n",
       "474210   27.9755   -82.5332  \n",
       "474276   27.9755   -82.5332  \n",
       "\n",
       "[643 rows x 17 columns]"
      ]
     },
     "execution_count": 116,
     "metadata": {},
     "output_type": "execute_result"
    }
   ],
   "source": [
    "region_complaints"
   ]
  },
  {
   "cell_type": "code",
   "execution_count": 47,
   "id": "2e468073",
   "metadata": {},
   "outputs": [],
   "source": [
    "disability_complaints = pd.merge(complaints_subcat_disability, iata_icao, on=\"iata\")"
   ]
  },
  {
   "cell_type": "code",
   "execution_count": 48,
   "id": "85cd8e8b",
   "metadata": {
    "scrolled": false
   },
   "outputs": [
    {
     "data": {
      "text/html": [
       "<div>\n",
       "<style scoped>\n",
       "    .dataframe tbody tr th:only-of-type {\n",
       "        vertical-align: middle;\n",
       "    }\n",
       "\n",
       "    .dataframe tbody tr th {\n",
       "        vertical-align: top;\n",
       "    }\n",
       "\n",
       "    .dataframe thead th {\n",
       "        text-align: right;\n",
       "    }\n",
       "</style>\n",
       "<table border=\"1\" class=\"dataframe\">\n",
       "  <thead>\n",
       "    <tr style=\"text-align: right;\">\n",
       "      <th></th>\n",
       "      <th>iata</th>\n",
       "      <th>year_month</th>\n",
       "      <th>count</th>\n",
       "      <th>clean_subcat</th>\n",
       "      <th>country_code</th>\n",
       "      <th>region_name</th>\n",
       "      <th>icao</th>\n",
       "      <th>airport</th>\n",
       "      <th>latitude</th>\n",
       "      <th>longitude</th>\n",
       "    </tr>\n",
       "  </thead>\n",
       "  <tbody>\n",
       "    <tr>\n",
       "      <th>0</th>\n",
       "      <td>ABE</td>\n",
       "      <td>2019-05</td>\n",
       "      <td>2</td>\n",
       "      <td>Mobility Disability (Not Wheelchair or Scooter)</td>\n",
       "      <td>US</td>\n",
       "      <td>Pennsylvania</td>\n",
       "      <td>KABE</td>\n",
       "      <td>Lehigh Valley International Airport</td>\n",
       "      <td>40.6521</td>\n",
       "      <td>-75.4408</td>\n",
       "    </tr>\n",
       "    <tr>\n",
       "      <th>1</th>\n",
       "      <td>ABE</td>\n",
       "      <td>2019-08</td>\n",
       "      <td>1</td>\n",
       "      <td>Medically Necessary Medication and Medical Sup...</td>\n",
       "      <td>US</td>\n",
       "      <td>Pennsylvania</td>\n",
       "      <td>KABE</td>\n",
       "      <td>Lehigh Valley International Airport</td>\n",
       "      <td>40.6521</td>\n",
       "      <td>-75.4408</td>\n",
       "    </tr>\n",
       "    <tr>\n",
       "      <th>2</th>\n",
       "      <td>ABE</td>\n",
       "      <td>2021-06</td>\n",
       "      <td>1</td>\n",
       "      <td>Medical Devices - Attached to the Body</td>\n",
       "      <td>US</td>\n",
       "      <td>Pennsylvania</td>\n",
       "      <td>KABE</td>\n",
       "      <td>Lehigh Valley International Airport</td>\n",
       "      <td>40.6521</td>\n",
       "      <td>-75.4408</td>\n",
       "    </tr>\n",
       "    <tr>\n",
       "      <th>3</th>\n",
       "      <td>ABE</td>\n",
       "      <td>2021-07</td>\n",
       "      <td>1</td>\n",
       "      <td>Medically Necessary Medication and Medical Sup...</td>\n",
       "      <td>US</td>\n",
       "      <td>Pennsylvania</td>\n",
       "      <td>KABE</td>\n",
       "      <td>Lehigh Valley International Airport</td>\n",
       "      <td>40.6521</td>\n",
       "      <td>-75.4408</td>\n",
       "    </tr>\n",
       "    <tr>\n",
       "      <th>4</th>\n",
       "      <td>ABE</td>\n",
       "      <td>2022-09</td>\n",
       "      <td>1</td>\n",
       "      <td>Diabetes</td>\n",
       "      <td>US</td>\n",
       "      <td>Pennsylvania</td>\n",
       "      <td>KABE</td>\n",
       "      <td>Lehigh Valley International Airport</td>\n",
       "      <td>40.6521</td>\n",
       "      <td>-75.4408</td>\n",
       "    </tr>\n",
       "    <tr>\n",
       "      <th>...</th>\n",
       "      <td>...</td>\n",
       "      <td>...</td>\n",
       "      <td>...</td>\n",
       "      <td>...</td>\n",
       "      <td>...</td>\n",
       "      <td>...</td>\n",
       "      <td>...</td>\n",
       "      <td>...</td>\n",
       "      <td>...</td>\n",
       "      <td>...</td>\n",
       "    </tr>\n",
       "    <tr>\n",
       "      <th>13990</th>\n",
       "      <td>YKM</td>\n",
       "      <td>2018-08</td>\n",
       "      <td>1</td>\n",
       "      <td>Mobility Disability (Not Wheelchair or Scooter)</td>\n",
       "      <td>US</td>\n",
       "      <td>Washington</td>\n",
       "      <td>KYKM</td>\n",
       "      <td>Yakima Air Terminal (McAllister Field)</td>\n",
       "      <td>46.5682</td>\n",
       "      <td>-120.5440</td>\n",
       "    </tr>\n",
       "    <tr>\n",
       "      <th>13991</th>\n",
       "      <td>YKM</td>\n",
       "      <td>2019-03</td>\n",
       "      <td>1</td>\n",
       "      <td>Prosthesis/Amputees and Casts</td>\n",
       "      <td>US</td>\n",
       "      <td>Washington</td>\n",
       "      <td>KYKM</td>\n",
       "      <td>Yakima Air Terminal (McAllister Field)</td>\n",
       "      <td>46.5682</td>\n",
       "      <td>-120.5440</td>\n",
       "    </tr>\n",
       "    <tr>\n",
       "      <th>13992</th>\n",
       "      <td>YKM</td>\n",
       "      <td>2021-06</td>\n",
       "      <td>1</td>\n",
       "      <td>Cognitive /Developmental /Mental Disability</td>\n",
       "      <td>US</td>\n",
       "      <td>Washington</td>\n",
       "      <td>KYKM</td>\n",
       "      <td>Yakima Air Terminal (McAllister Field)</td>\n",
       "      <td>46.5682</td>\n",
       "      <td>-120.5440</td>\n",
       "    </tr>\n",
       "    <tr>\n",
       "      <th>13993</th>\n",
       "      <td>YKM</td>\n",
       "      <td>2021-06</td>\n",
       "      <td>1</td>\n",
       "      <td>Medically Necessary Medication and Medical Sup...</td>\n",
       "      <td>US</td>\n",
       "      <td>Washington</td>\n",
       "      <td>KYKM</td>\n",
       "      <td>Yakima Air Terminal (McAllister Field)</td>\n",
       "      <td>46.5682</td>\n",
       "      <td>-120.5440</td>\n",
       "    </tr>\n",
       "    <tr>\n",
       "      <th>13994</th>\n",
       "      <td>YNG</td>\n",
       "      <td>2015-10</td>\n",
       "      <td>1</td>\n",
       "      <td>Metal Implants (joint)</td>\n",
       "      <td>US</td>\n",
       "      <td>Ohio</td>\n",
       "      <td>KYNG</td>\n",
       "      <td>Youngstown-Warren Regional Airport</td>\n",
       "      <td>41.2607</td>\n",
       "      <td>-80.6791</td>\n",
       "    </tr>\n",
       "  </tbody>\n",
       "</table>\n",
       "<p>13995 rows × 10 columns</p>\n",
       "</div>"
      ],
      "text/plain": [
       "      iata year_month  count  \\\n",
       "0      ABE    2019-05      2   \n",
       "1      ABE    2019-08      1   \n",
       "2      ABE    2021-06      1   \n",
       "3      ABE    2021-07      1   \n",
       "4      ABE    2022-09      1   \n",
       "...    ...        ...    ...   \n",
       "13990  YKM    2018-08      1   \n",
       "13991  YKM    2019-03      1   \n",
       "13992  YKM    2021-06      1   \n",
       "13993  YKM    2021-06      1   \n",
       "13994  YNG    2015-10      1   \n",
       "\n",
       "                                            clean_subcat country_code  \\\n",
       "0        Mobility Disability (Not Wheelchair or Scooter)           US   \n",
       "1      Medically Necessary Medication and Medical Sup...           US   \n",
       "2                 Medical Devices - Attached to the Body           US   \n",
       "3      Medically Necessary Medication and Medical Sup...           US   \n",
       "4                                               Diabetes           US   \n",
       "...                                                  ...          ...   \n",
       "13990    Mobility Disability (Not Wheelchair or Scooter)           US   \n",
       "13991                      Prosthesis/Amputees and Casts           US   \n",
       "13992        Cognitive /Developmental /Mental Disability           US   \n",
       "13993  Medically Necessary Medication and Medical Sup...           US   \n",
       "13994                             Metal Implants (joint)           US   \n",
       "\n",
       "        region_name  icao                                 airport  latitude  \\\n",
       "0      Pennsylvania  KABE     Lehigh Valley International Airport   40.6521   \n",
       "1      Pennsylvania  KABE     Lehigh Valley International Airport   40.6521   \n",
       "2      Pennsylvania  KABE     Lehigh Valley International Airport   40.6521   \n",
       "3      Pennsylvania  KABE     Lehigh Valley International Airport   40.6521   \n",
       "4      Pennsylvania  KABE     Lehigh Valley International Airport   40.6521   \n",
       "...             ...   ...                                     ...       ...   \n",
       "13990    Washington  KYKM  Yakima Air Terminal (McAllister Field)   46.5682   \n",
       "13991    Washington  KYKM  Yakima Air Terminal (McAllister Field)   46.5682   \n",
       "13992    Washington  KYKM  Yakima Air Terminal (McAllister Field)   46.5682   \n",
       "13993    Washington  KYKM  Yakima Air Terminal (McAllister Field)   46.5682   \n",
       "13994          Ohio  KYNG      Youngstown-Warren Regional Airport   41.2607   \n",
       "\n",
       "       longitude  \n",
       "0       -75.4408  \n",
       "1       -75.4408  \n",
       "2       -75.4408  \n",
       "3       -75.4408  \n",
       "4       -75.4408  \n",
       "...          ...  \n",
       "13990  -120.5440  \n",
       "13991  -120.5440  \n",
       "13992  -120.5440  \n",
       "13993  -120.5440  \n",
       "13994   -80.6791  \n",
       "\n",
       "[13995 rows x 10 columns]"
      ]
     },
     "execution_count": 48,
     "metadata": {},
     "output_type": "execute_result"
    }
   ],
   "source": [
    "disability_complaints"
   ]
  },
  {
   "cell_type": "code",
   "execution_count": 49,
   "id": "ff72ca10",
   "metadata": {},
   "outputs": [
    {
     "data": {
      "text/plain": [
       "region_name\n",
       "Florida                 1887\n",
       "California              1525\n",
       "Texas                   1219\n",
       "New York                 885\n",
       "Colorado                 537\n",
       "Illinois                 530\n",
       "Virginia                 514\n",
       "Nevada                   470\n",
       "Arizona                  460\n",
       "New Jersey               445\n",
       "Washington               440\n",
       "Georgia                  428\n",
       "North Carolina           403\n",
       "Pennsylvania             357\n",
       "Massachusetts            334\n",
       "Hawaii                   267\n",
       "Maryland                 263\n",
       "Michigan                 259\n",
       "Minnesota                233\n",
       "Ohio                     226\n",
       "Missouri                 222\n",
       "Oregon                   199\n",
       "Louisiana                194\n",
       "Tennessee                182\n",
       "Utah                     144\n",
       "South Carolina           132\n",
       "Alaska                   126\n",
       "Indiana                   94\n",
       "Connecticut               91\n",
       "Kentucky                  81\n",
       "Iowa                      80\n",
       "Carolina                  75\n",
       "New Mexico                74\n",
       "Oklahoma                  66\n",
       "Wisconsin                 64\n",
       "Montana                   60\n",
       "Alabama                   56\n",
       "Arkansas                  53\n",
       "Idaho                     47\n",
       "Rhode Island              34\n",
       "Mississippi               30\n",
       "Maine                     24\n",
       "New Hampshire             22\n",
       "North Dakota              19\n",
       "Wyoming                   19\n",
       "South Dakota              18\n",
       "Vermont                   17\n",
       "Irkutskaya oblast'        16\n",
       "Kansas                    14\n",
       "Virgin Islands, U.S.      13\n",
       "West Virginia             11\n",
       "Nebraska                   9\n",
       "Qinghai                    7\n",
       "Cauca                      7\n",
       "Ponce                      6\n",
       "Delaware                   3\n",
       "South Australia            2\n",
       "Barrigada                  1\n",
       "Eastern District           1\n",
       "Name: count, dtype: int64"
      ]
     },
     "execution_count": 49,
     "metadata": {},
     "output_type": "execute_result"
    }
   ],
   "source": [
    "disability_complaints['region_name'].value_counts()"
   ]
  },
  {
   "cell_type": "code",
   "execution_count": 50,
   "id": "8b5117f2",
   "metadata": {},
   "outputs": [],
   "source": [
    "disability_complaints = disability_complaints[disability_complaints.country_code.isin(['US'])]"
   ]
  },
  {
   "cell_type": "code",
   "execution_count": 51,
   "id": "54d6e90d",
   "metadata": {},
   "outputs": [
    {
     "data": {
      "text/html": [
       "<div>\n",
       "<style scoped>\n",
       "    .dataframe tbody tr th:only-of-type {\n",
       "        vertical-align: middle;\n",
       "    }\n",
       "\n",
       "    .dataframe tbody tr th {\n",
       "        vertical-align: top;\n",
       "    }\n",
       "\n",
       "    .dataframe thead th {\n",
       "        text-align: right;\n",
       "    }\n",
       "</style>\n",
       "<table border=\"1\" class=\"dataframe\">\n",
       "  <thead>\n",
       "    <tr style=\"text-align: right;\">\n",
       "      <th></th>\n",
       "      <th>iata</th>\n",
       "      <th>year_month</th>\n",
       "      <th>count</th>\n",
       "      <th>clean_subcat</th>\n",
       "      <th>country_code</th>\n",
       "      <th>region_name</th>\n",
       "      <th>icao</th>\n",
       "      <th>airport</th>\n",
       "      <th>latitude</th>\n",
       "      <th>longitude</th>\n",
       "    </tr>\n",
       "  </thead>\n",
       "  <tbody>\n",
       "    <tr>\n",
       "      <th>0</th>\n",
       "      <td>ABE</td>\n",
       "      <td>2019-05</td>\n",
       "      <td>2</td>\n",
       "      <td>Mobility Disability (Not Wheelchair or Scooter)</td>\n",
       "      <td>US</td>\n",
       "      <td>Pennsylvania</td>\n",
       "      <td>KABE</td>\n",
       "      <td>Lehigh Valley International Airport</td>\n",
       "      <td>40.6521</td>\n",
       "      <td>-75.4408</td>\n",
       "    </tr>\n",
       "    <tr>\n",
       "      <th>1</th>\n",
       "      <td>ABE</td>\n",
       "      <td>2019-08</td>\n",
       "      <td>1</td>\n",
       "      <td>Medically Necessary Medication and Medical Sup...</td>\n",
       "      <td>US</td>\n",
       "      <td>Pennsylvania</td>\n",
       "      <td>KABE</td>\n",
       "      <td>Lehigh Valley International Airport</td>\n",
       "      <td>40.6521</td>\n",
       "      <td>-75.4408</td>\n",
       "    </tr>\n",
       "    <tr>\n",
       "      <th>2</th>\n",
       "      <td>ABE</td>\n",
       "      <td>2021-06</td>\n",
       "      <td>1</td>\n",
       "      <td>Medical Devices - Attached to the Body</td>\n",
       "      <td>US</td>\n",
       "      <td>Pennsylvania</td>\n",
       "      <td>KABE</td>\n",
       "      <td>Lehigh Valley International Airport</td>\n",
       "      <td>40.6521</td>\n",
       "      <td>-75.4408</td>\n",
       "    </tr>\n",
       "    <tr>\n",
       "      <th>3</th>\n",
       "      <td>ABE</td>\n",
       "      <td>2021-07</td>\n",
       "      <td>1</td>\n",
       "      <td>Medically Necessary Medication and Medical Sup...</td>\n",
       "      <td>US</td>\n",
       "      <td>Pennsylvania</td>\n",
       "      <td>KABE</td>\n",
       "      <td>Lehigh Valley International Airport</td>\n",
       "      <td>40.6521</td>\n",
       "      <td>-75.4408</td>\n",
       "    </tr>\n",
       "    <tr>\n",
       "      <th>4</th>\n",
       "      <td>ABE</td>\n",
       "      <td>2022-09</td>\n",
       "      <td>1</td>\n",
       "      <td>Diabetes</td>\n",
       "      <td>US</td>\n",
       "      <td>Pennsylvania</td>\n",
       "      <td>KABE</td>\n",
       "      <td>Lehigh Valley International Airport</td>\n",
       "      <td>40.6521</td>\n",
       "      <td>-75.4408</td>\n",
       "    </tr>\n",
       "    <tr>\n",
       "      <th>...</th>\n",
       "      <td>...</td>\n",
       "      <td>...</td>\n",
       "      <td>...</td>\n",
       "      <td>...</td>\n",
       "      <td>...</td>\n",
       "      <td>...</td>\n",
       "      <td>...</td>\n",
       "      <td>...</td>\n",
       "      <td>...</td>\n",
       "      <td>...</td>\n",
       "    </tr>\n",
       "    <tr>\n",
       "      <th>13990</th>\n",
       "      <td>YKM</td>\n",
       "      <td>2018-08</td>\n",
       "      <td>1</td>\n",
       "      <td>Mobility Disability (Not Wheelchair or Scooter)</td>\n",
       "      <td>US</td>\n",
       "      <td>Washington</td>\n",
       "      <td>KYKM</td>\n",
       "      <td>Yakima Air Terminal (McAllister Field)</td>\n",
       "      <td>46.5682</td>\n",
       "      <td>-120.5440</td>\n",
       "    </tr>\n",
       "    <tr>\n",
       "      <th>13991</th>\n",
       "      <td>YKM</td>\n",
       "      <td>2019-03</td>\n",
       "      <td>1</td>\n",
       "      <td>Prosthesis/Amputees and Casts</td>\n",
       "      <td>US</td>\n",
       "      <td>Washington</td>\n",
       "      <td>KYKM</td>\n",
       "      <td>Yakima Air Terminal (McAllister Field)</td>\n",
       "      <td>46.5682</td>\n",
       "      <td>-120.5440</td>\n",
       "    </tr>\n",
       "    <tr>\n",
       "      <th>13992</th>\n",
       "      <td>YKM</td>\n",
       "      <td>2021-06</td>\n",
       "      <td>1</td>\n",
       "      <td>Cognitive /Developmental /Mental Disability</td>\n",
       "      <td>US</td>\n",
       "      <td>Washington</td>\n",
       "      <td>KYKM</td>\n",
       "      <td>Yakima Air Terminal (McAllister Field)</td>\n",
       "      <td>46.5682</td>\n",
       "      <td>-120.5440</td>\n",
       "    </tr>\n",
       "    <tr>\n",
       "      <th>13993</th>\n",
       "      <td>YKM</td>\n",
       "      <td>2021-06</td>\n",
       "      <td>1</td>\n",
       "      <td>Medically Necessary Medication and Medical Sup...</td>\n",
       "      <td>US</td>\n",
       "      <td>Washington</td>\n",
       "      <td>KYKM</td>\n",
       "      <td>Yakima Air Terminal (McAllister Field)</td>\n",
       "      <td>46.5682</td>\n",
       "      <td>-120.5440</td>\n",
       "    </tr>\n",
       "    <tr>\n",
       "      <th>13994</th>\n",
       "      <td>YNG</td>\n",
       "      <td>2015-10</td>\n",
       "      <td>1</td>\n",
       "      <td>Metal Implants (joint)</td>\n",
       "      <td>US</td>\n",
       "      <td>Ohio</td>\n",
       "      <td>KYNG</td>\n",
       "      <td>Youngstown-Warren Regional Airport</td>\n",
       "      <td>41.2607</td>\n",
       "      <td>-80.6791</td>\n",
       "    </tr>\n",
       "  </tbody>\n",
       "</table>\n",
       "<p>13867 rows × 10 columns</p>\n",
       "</div>"
      ],
      "text/plain": [
       "      iata year_month  count  \\\n",
       "0      ABE    2019-05      2   \n",
       "1      ABE    2019-08      1   \n",
       "2      ABE    2021-06      1   \n",
       "3      ABE    2021-07      1   \n",
       "4      ABE    2022-09      1   \n",
       "...    ...        ...    ...   \n",
       "13990  YKM    2018-08      1   \n",
       "13991  YKM    2019-03      1   \n",
       "13992  YKM    2021-06      1   \n",
       "13993  YKM    2021-06      1   \n",
       "13994  YNG    2015-10      1   \n",
       "\n",
       "                                            clean_subcat country_code  \\\n",
       "0        Mobility Disability (Not Wheelchair or Scooter)           US   \n",
       "1      Medically Necessary Medication and Medical Sup...           US   \n",
       "2                 Medical Devices - Attached to the Body           US   \n",
       "3      Medically Necessary Medication and Medical Sup...           US   \n",
       "4                                               Diabetes           US   \n",
       "...                                                  ...          ...   \n",
       "13990    Mobility Disability (Not Wheelchair or Scooter)           US   \n",
       "13991                      Prosthesis/Amputees and Casts           US   \n",
       "13992        Cognitive /Developmental /Mental Disability           US   \n",
       "13993  Medically Necessary Medication and Medical Sup...           US   \n",
       "13994                             Metal Implants (joint)           US   \n",
       "\n",
       "        region_name  icao                                 airport  latitude  \\\n",
       "0      Pennsylvania  KABE     Lehigh Valley International Airport   40.6521   \n",
       "1      Pennsylvania  KABE     Lehigh Valley International Airport   40.6521   \n",
       "2      Pennsylvania  KABE     Lehigh Valley International Airport   40.6521   \n",
       "3      Pennsylvania  KABE     Lehigh Valley International Airport   40.6521   \n",
       "4      Pennsylvania  KABE     Lehigh Valley International Airport   40.6521   \n",
       "...             ...   ...                                     ...       ...   \n",
       "13990    Washington  KYKM  Yakima Air Terminal (McAllister Field)   46.5682   \n",
       "13991    Washington  KYKM  Yakima Air Terminal (McAllister Field)   46.5682   \n",
       "13992    Washington  KYKM  Yakima Air Terminal (McAllister Field)   46.5682   \n",
       "13993    Washington  KYKM  Yakima Air Terminal (McAllister Field)   46.5682   \n",
       "13994          Ohio  KYNG      Youngstown-Warren Regional Airport   41.2607   \n",
       "\n",
       "       longitude  \n",
       "0       -75.4408  \n",
       "1       -75.4408  \n",
       "2       -75.4408  \n",
       "3       -75.4408  \n",
       "4       -75.4408  \n",
       "...          ...  \n",
       "13990  -120.5440  \n",
       "13991  -120.5440  \n",
       "13992  -120.5440  \n",
       "13993  -120.5440  \n",
       "13994   -80.6791  \n",
       "\n",
       "[13867 rows x 10 columns]"
      ]
     },
     "execution_count": 51,
     "metadata": {},
     "output_type": "execute_result"
    }
   ],
   "source": [
    "disability_complaints"
   ]
  },
  {
   "cell_type": "code",
   "execution_count": 52,
   "id": "bf6dd9af",
   "metadata": {},
   "outputs": [],
   "source": [
    "disability_complaints = disability_complaints.replace({\n",
    "        'Alabama': 'AL',\n",
    "        'Alaska': 'AK',\n",
    "        'Arizona': 'AZ',\n",
    "        'Arkansas': 'AR',\n",
    "        'California': 'CA',\n",
    "        'Colorado': 'CO',\n",
    "        'Connecticut': 'CT',\n",
    "        'Delaware': 'DE',\n",
    "        'Florida': 'FL',\n",
    "        'Georgia': 'GA',\n",
    "        'Hawaii': 'HI',\n",
    "        'Idaho': 'ID',\n",
    "        'Illinois': 'IL',\n",
    "        'Indiana': 'IN',\n",
    "        'Iowa': 'IA',\n",
    "        'Kansas': 'KS',\n",
    "        'Kentucky': 'KY',\n",
    "        'Louisiana': 'LA',\n",
    "        'Maine': 'ME',\n",
    "        'Maryland': 'MD',\n",
    "        'Massachusetts': 'MA',\n",
    "        'Michigan': 'MI',\n",
    "        'Minnesota': 'MN',\n",
    "        'Mississippi': 'MS',\n",
    "        'Missouri': 'MO',\n",
    "        'Montana': 'MT',\n",
    "        'Nebraska': 'NE',\n",
    "        'Nevada': 'NV',\n",
    "        'New Hampshire': 'NH',\n",
    "        'New Jersey': 'NJ',\n",
    "        'New Mexico': 'NM',\n",
    "        'New York': 'NY',\n",
    "        'North Carolina': 'NC',\n",
    "        'North Dakota': 'ND',\n",
    "        'Ohio': 'OH',\n",
    "        'Oklahoma': 'OK',\n",
    "        'Oregon': 'OR',\n",
    "        'Pennsylvania': 'PA',\n",
    "        'Rhode Island': 'RI',\n",
    "        'South Carolina': 'SC',\n",
    "        'South Dakota': 'SD',\n",
    "        'Tennessee': 'TN',\n",
    "        'Texas': 'TX',\n",
    "        'Utah': 'UT',\n",
    "        'Vermont': 'VT',\n",
    "        'Virginia': 'VA',\n",
    "        'Washington': 'WA',\n",
    "        'West Virginia': 'WV',\n",
    "        'Wisconsin': 'WI',\n",
    "        'Wyoming': 'WY'\n",
    "    })"
   ]
  },
  {
   "cell_type": "code",
   "execution_count": 53,
   "id": "c8aa6f83",
   "metadata": {},
   "outputs": [
    {
     "data": {
      "text/html": [
       "<div>\n",
       "<style scoped>\n",
       "    .dataframe tbody tr th:only-of-type {\n",
       "        vertical-align: middle;\n",
       "    }\n",
       "\n",
       "    .dataframe tbody tr th {\n",
       "        vertical-align: top;\n",
       "    }\n",
       "\n",
       "    .dataframe thead th {\n",
       "        text-align: right;\n",
       "    }\n",
       "</style>\n",
       "<table border=\"1\" class=\"dataframe\">\n",
       "  <thead>\n",
       "    <tr style=\"text-align: right;\">\n",
       "      <th></th>\n",
       "      <th>iata</th>\n",
       "      <th>year_month</th>\n",
       "      <th>count</th>\n",
       "      <th>clean_subcat</th>\n",
       "      <th>country_code</th>\n",
       "      <th>region_name</th>\n",
       "      <th>icao</th>\n",
       "      <th>airport</th>\n",
       "      <th>latitude</th>\n",
       "      <th>longitude</th>\n",
       "    </tr>\n",
       "  </thead>\n",
       "  <tbody>\n",
       "    <tr>\n",
       "      <th>0</th>\n",
       "      <td>ABE</td>\n",
       "      <td>2019-05</td>\n",
       "      <td>2</td>\n",
       "      <td>Mobility Disability (Not Wheelchair or Scooter)</td>\n",
       "      <td>US</td>\n",
       "      <td>PA</td>\n",
       "      <td>KABE</td>\n",
       "      <td>Lehigh Valley International Airport</td>\n",
       "      <td>40.6521</td>\n",
       "      <td>-75.4408</td>\n",
       "    </tr>\n",
       "    <tr>\n",
       "      <th>1</th>\n",
       "      <td>ABE</td>\n",
       "      <td>2019-08</td>\n",
       "      <td>1</td>\n",
       "      <td>Medically Necessary Medication and Medical Sup...</td>\n",
       "      <td>US</td>\n",
       "      <td>PA</td>\n",
       "      <td>KABE</td>\n",
       "      <td>Lehigh Valley International Airport</td>\n",
       "      <td>40.6521</td>\n",
       "      <td>-75.4408</td>\n",
       "    </tr>\n",
       "    <tr>\n",
       "      <th>2</th>\n",
       "      <td>ABE</td>\n",
       "      <td>2021-06</td>\n",
       "      <td>1</td>\n",
       "      <td>Medical Devices - Attached to the Body</td>\n",
       "      <td>US</td>\n",
       "      <td>PA</td>\n",
       "      <td>KABE</td>\n",
       "      <td>Lehigh Valley International Airport</td>\n",
       "      <td>40.6521</td>\n",
       "      <td>-75.4408</td>\n",
       "    </tr>\n",
       "    <tr>\n",
       "      <th>3</th>\n",
       "      <td>ABE</td>\n",
       "      <td>2021-07</td>\n",
       "      <td>1</td>\n",
       "      <td>Medically Necessary Medication and Medical Sup...</td>\n",
       "      <td>US</td>\n",
       "      <td>PA</td>\n",
       "      <td>KABE</td>\n",
       "      <td>Lehigh Valley International Airport</td>\n",
       "      <td>40.6521</td>\n",
       "      <td>-75.4408</td>\n",
       "    </tr>\n",
       "    <tr>\n",
       "      <th>4</th>\n",
       "      <td>ABE</td>\n",
       "      <td>2022-09</td>\n",
       "      <td>1</td>\n",
       "      <td>Diabetes</td>\n",
       "      <td>US</td>\n",
       "      <td>PA</td>\n",
       "      <td>KABE</td>\n",
       "      <td>Lehigh Valley International Airport</td>\n",
       "      <td>40.6521</td>\n",
       "      <td>-75.4408</td>\n",
       "    </tr>\n",
       "    <tr>\n",
       "      <th>...</th>\n",
       "      <td>...</td>\n",
       "      <td>...</td>\n",
       "      <td>...</td>\n",
       "      <td>...</td>\n",
       "      <td>...</td>\n",
       "      <td>...</td>\n",
       "      <td>...</td>\n",
       "      <td>...</td>\n",
       "      <td>...</td>\n",
       "      <td>...</td>\n",
       "    </tr>\n",
       "    <tr>\n",
       "      <th>13990</th>\n",
       "      <td>YKM</td>\n",
       "      <td>2018-08</td>\n",
       "      <td>1</td>\n",
       "      <td>Mobility Disability (Not Wheelchair or Scooter)</td>\n",
       "      <td>US</td>\n",
       "      <td>WA</td>\n",
       "      <td>KYKM</td>\n",
       "      <td>Yakima Air Terminal (McAllister Field)</td>\n",
       "      <td>46.5682</td>\n",
       "      <td>-120.5440</td>\n",
       "    </tr>\n",
       "    <tr>\n",
       "      <th>13991</th>\n",
       "      <td>YKM</td>\n",
       "      <td>2019-03</td>\n",
       "      <td>1</td>\n",
       "      <td>Prosthesis/Amputees and Casts</td>\n",
       "      <td>US</td>\n",
       "      <td>WA</td>\n",
       "      <td>KYKM</td>\n",
       "      <td>Yakima Air Terminal (McAllister Field)</td>\n",
       "      <td>46.5682</td>\n",
       "      <td>-120.5440</td>\n",
       "    </tr>\n",
       "    <tr>\n",
       "      <th>13992</th>\n",
       "      <td>YKM</td>\n",
       "      <td>2021-06</td>\n",
       "      <td>1</td>\n",
       "      <td>Cognitive /Developmental /Mental Disability</td>\n",
       "      <td>US</td>\n",
       "      <td>WA</td>\n",
       "      <td>KYKM</td>\n",
       "      <td>Yakima Air Terminal (McAllister Field)</td>\n",
       "      <td>46.5682</td>\n",
       "      <td>-120.5440</td>\n",
       "    </tr>\n",
       "    <tr>\n",
       "      <th>13993</th>\n",
       "      <td>YKM</td>\n",
       "      <td>2021-06</td>\n",
       "      <td>1</td>\n",
       "      <td>Medically Necessary Medication and Medical Sup...</td>\n",
       "      <td>US</td>\n",
       "      <td>WA</td>\n",
       "      <td>KYKM</td>\n",
       "      <td>Yakima Air Terminal (McAllister Field)</td>\n",
       "      <td>46.5682</td>\n",
       "      <td>-120.5440</td>\n",
       "    </tr>\n",
       "    <tr>\n",
       "      <th>13994</th>\n",
       "      <td>YNG</td>\n",
       "      <td>2015-10</td>\n",
       "      <td>1</td>\n",
       "      <td>Metal Implants (joint)</td>\n",
       "      <td>US</td>\n",
       "      <td>OH</td>\n",
       "      <td>KYNG</td>\n",
       "      <td>Youngstown-Warren Regional Airport</td>\n",
       "      <td>41.2607</td>\n",
       "      <td>-80.6791</td>\n",
       "    </tr>\n",
       "  </tbody>\n",
       "</table>\n",
       "<p>13867 rows × 10 columns</p>\n",
       "</div>"
      ],
      "text/plain": [
       "      iata year_month  count  \\\n",
       "0      ABE    2019-05      2   \n",
       "1      ABE    2019-08      1   \n",
       "2      ABE    2021-06      1   \n",
       "3      ABE    2021-07      1   \n",
       "4      ABE    2022-09      1   \n",
       "...    ...        ...    ...   \n",
       "13990  YKM    2018-08      1   \n",
       "13991  YKM    2019-03      1   \n",
       "13992  YKM    2021-06      1   \n",
       "13993  YKM    2021-06      1   \n",
       "13994  YNG    2015-10      1   \n",
       "\n",
       "                                            clean_subcat country_code  \\\n",
       "0        Mobility Disability (Not Wheelchair or Scooter)           US   \n",
       "1      Medically Necessary Medication and Medical Sup...           US   \n",
       "2                 Medical Devices - Attached to the Body           US   \n",
       "3      Medically Necessary Medication and Medical Sup...           US   \n",
       "4                                               Diabetes           US   \n",
       "...                                                  ...          ...   \n",
       "13990    Mobility Disability (Not Wheelchair or Scooter)           US   \n",
       "13991                      Prosthesis/Amputees and Casts           US   \n",
       "13992        Cognitive /Developmental /Mental Disability           US   \n",
       "13993  Medically Necessary Medication and Medical Sup...           US   \n",
       "13994                             Metal Implants (joint)           US   \n",
       "\n",
       "      region_name  icao                                 airport  latitude  \\\n",
       "0              PA  KABE     Lehigh Valley International Airport   40.6521   \n",
       "1              PA  KABE     Lehigh Valley International Airport   40.6521   \n",
       "2              PA  KABE     Lehigh Valley International Airport   40.6521   \n",
       "3              PA  KABE     Lehigh Valley International Airport   40.6521   \n",
       "4              PA  KABE     Lehigh Valley International Airport   40.6521   \n",
       "...           ...   ...                                     ...       ...   \n",
       "13990          WA  KYKM  Yakima Air Terminal (McAllister Field)   46.5682   \n",
       "13991          WA  KYKM  Yakima Air Terminal (McAllister Field)   46.5682   \n",
       "13992          WA  KYKM  Yakima Air Terminal (McAllister Field)   46.5682   \n",
       "13993          WA  KYKM  Yakima Air Terminal (McAllister Field)   46.5682   \n",
       "13994          OH  KYNG      Youngstown-Warren Regional Airport   41.2607   \n",
       "\n",
       "       longitude  \n",
       "0       -75.4408  \n",
       "1       -75.4408  \n",
       "2       -75.4408  \n",
       "3       -75.4408  \n",
       "4       -75.4408  \n",
       "...          ...  \n",
       "13990  -120.5440  \n",
       "13991  -120.5440  \n",
       "13992  -120.5440  \n",
       "13993  -120.5440  \n",
       "13994   -80.6791  \n",
       "\n",
       "[13867 rows x 10 columns]"
      ]
     },
     "execution_count": 53,
     "metadata": {},
     "output_type": "execute_result"
    }
   ],
   "source": [
    "disability_complaints"
   ]
  },
  {
   "cell_type": "code",
   "execution_count": 54,
   "id": "34c4e004",
   "metadata": {},
   "outputs": [],
   "source": [
    "disability_complaints = disability_complaints.rename(columns={'region_name': 'state'})"
   ]
  },
  {
   "cell_type": "code",
   "execution_count": 55,
   "id": "dd4498bd",
   "metadata": {},
   "outputs": [
    {
     "data": {
      "text/html": [
       "<div>\n",
       "<style scoped>\n",
       "    .dataframe tbody tr th:only-of-type {\n",
       "        vertical-align: middle;\n",
       "    }\n",
       "\n",
       "    .dataframe tbody tr th {\n",
       "        vertical-align: top;\n",
       "    }\n",
       "\n",
       "    .dataframe thead th {\n",
       "        text-align: right;\n",
       "    }\n",
       "</style>\n",
       "<table border=\"1\" class=\"dataframe\">\n",
       "  <thead>\n",
       "    <tr style=\"text-align: right;\">\n",
       "      <th></th>\n",
       "      <th>iata</th>\n",
       "      <th>year_month</th>\n",
       "      <th>count</th>\n",
       "      <th>clean_subcat</th>\n",
       "      <th>country_code</th>\n",
       "      <th>state</th>\n",
       "      <th>icao</th>\n",
       "      <th>airport</th>\n",
       "      <th>latitude</th>\n",
       "      <th>longitude</th>\n",
       "    </tr>\n",
       "  </thead>\n",
       "  <tbody>\n",
       "    <tr>\n",
       "      <th>0</th>\n",
       "      <td>ABE</td>\n",
       "      <td>2019-05</td>\n",
       "      <td>2</td>\n",
       "      <td>Mobility Disability (Not Wheelchair or Scooter)</td>\n",
       "      <td>US</td>\n",
       "      <td>PA</td>\n",
       "      <td>KABE</td>\n",
       "      <td>Lehigh Valley International Airport</td>\n",
       "      <td>40.6521</td>\n",
       "      <td>-75.4408</td>\n",
       "    </tr>\n",
       "    <tr>\n",
       "      <th>1</th>\n",
       "      <td>ABE</td>\n",
       "      <td>2019-08</td>\n",
       "      <td>1</td>\n",
       "      <td>Medically Necessary Medication and Medical Sup...</td>\n",
       "      <td>US</td>\n",
       "      <td>PA</td>\n",
       "      <td>KABE</td>\n",
       "      <td>Lehigh Valley International Airport</td>\n",
       "      <td>40.6521</td>\n",
       "      <td>-75.4408</td>\n",
       "    </tr>\n",
       "    <tr>\n",
       "      <th>2</th>\n",
       "      <td>ABE</td>\n",
       "      <td>2021-06</td>\n",
       "      <td>1</td>\n",
       "      <td>Medical Devices - Attached to the Body</td>\n",
       "      <td>US</td>\n",
       "      <td>PA</td>\n",
       "      <td>KABE</td>\n",
       "      <td>Lehigh Valley International Airport</td>\n",
       "      <td>40.6521</td>\n",
       "      <td>-75.4408</td>\n",
       "    </tr>\n",
       "    <tr>\n",
       "      <th>3</th>\n",
       "      <td>ABE</td>\n",
       "      <td>2021-07</td>\n",
       "      <td>1</td>\n",
       "      <td>Medically Necessary Medication and Medical Sup...</td>\n",
       "      <td>US</td>\n",
       "      <td>PA</td>\n",
       "      <td>KABE</td>\n",
       "      <td>Lehigh Valley International Airport</td>\n",
       "      <td>40.6521</td>\n",
       "      <td>-75.4408</td>\n",
       "    </tr>\n",
       "    <tr>\n",
       "      <th>4</th>\n",
       "      <td>ABE</td>\n",
       "      <td>2022-09</td>\n",
       "      <td>1</td>\n",
       "      <td>Diabetes</td>\n",
       "      <td>US</td>\n",
       "      <td>PA</td>\n",
       "      <td>KABE</td>\n",
       "      <td>Lehigh Valley International Airport</td>\n",
       "      <td>40.6521</td>\n",
       "      <td>-75.4408</td>\n",
       "    </tr>\n",
       "    <tr>\n",
       "      <th>...</th>\n",
       "      <td>...</td>\n",
       "      <td>...</td>\n",
       "      <td>...</td>\n",
       "      <td>...</td>\n",
       "      <td>...</td>\n",
       "      <td>...</td>\n",
       "      <td>...</td>\n",
       "      <td>...</td>\n",
       "      <td>...</td>\n",
       "      <td>...</td>\n",
       "    </tr>\n",
       "    <tr>\n",
       "      <th>13990</th>\n",
       "      <td>YKM</td>\n",
       "      <td>2018-08</td>\n",
       "      <td>1</td>\n",
       "      <td>Mobility Disability (Not Wheelchair or Scooter)</td>\n",
       "      <td>US</td>\n",
       "      <td>WA</td>\n",
       "      <td>KYKM</td>\n",
       "      <td>Yakima Air Terminal (McAllister Field)</td>\n",
       "      <td>46.5682</td>\n",
       "      <td>-120.5440</td>\n",
       "    </tr>\n",
       "    <tr>\n",
       "      <th>13991</th>\n",
       "      <td>YKM</td>\n",
       "      <td>2019-03</td>\n",
       "      <td>1</td>\n",
       "      <td>Prosthesis/Amputees and Casts</td>\n",
       "      <td>US</td>\n",
       "      <td>WA</td>\n",
       "      <td>KYKM</td>\n",
       "      <td>Yakima Air Terminal (McAllister Field)</td>\n",
       "      <td>46.5682</td>\n",
       "      <td>-120.5440</td>\n",
       "    </tr>\n",
       "    <tr>\n",
       "      <th>13992</th>\n",
       "      <td>YKM</td>\n",
       "      <td>2021-06</td>\n",
       "      <td>1</td>\n",
       "      <td>Cognitive /Developmental /Mental Disability</td>\n",
       "      <td>US</td>\n",
       "      <td>WA</td>\n",
       "      <td>KYKM</td>\n",
       "      <td>Yakima Air Terminal (McAllister Field)</td>\n",
       "      <td>46.5682</td>\n",
       "      <td>-120.5440</td>\n",
       "    </tr>\n",
       "    <tr>\n",
       "      <th>13993</th>\n",
       "      <td>YKM</td>\n",
       "      <td>2021-06</td>\n",
       "      <td>1</td>\n",
       "      <td>Medically Necessary Medication and Medical Sup...</td>\n",
       "      <td>US</td>\n",
       "      <td>WA</td>\n",
       "      <td>KYKM</td>\n",
       "      <td>Yakima Air Terminal (McAllister Field)</td>\n",
       "      <td>46.5682</td>\n",
       "      <td>-120.5440</td>\n",
       "    </tr>\n",
       "    <tr>\n",
       "      <th>13994</th>\n",
       "      <td>YNG</td>\n",
       "      <td>2015-10</td>\n",
       "      <td>1</td>\n",
       "      <td>Metal Implants (joint)</td>\n",
       "      <td>US</td>\n",
       "      <td>OH</td>\n",
       "      <td>KYNG</td>\n",
       "      <td>Youngstown-Warren Regional Airport</td>\n",
       "      <td>41.2607</td>\n",
       "      <td>-80.6791</td>\n",
       "    </tr>\n",
       "  </tbody>\n",
       "</table>\n",
       "<p>13867 rows × 10 columns</p>\n",
       "</div>"
      ],
      "text/plain": [
       "      iata year_month  count  \\\n",
       "0      ABE    2019-05      2   \n",
       "1      ABE    2019-08      1   \n",
       "2      ABE    2021-06      1   \n",
       "3      ABE    2021-07      1   \n",
       "4      ABE    2022-09      1   \n",
       "...    ...        ...    ...   \n",
       "13990  YKM    2018-08      1   \n",
       "13991  YKM    2019-03      1   \n",
       "13992  YKM    2021-06      1   \n",
       "13993  YKM    2021-06      1   \n",
       "13994  YNG    2015-10      1   \n",
       "\n",
       "                                            clean_subcat country_code state  \\\n",
       "0        Mobility Disability (Not Wheelchair or Scooter)           US    PA   \n",
       "1      Medically Necessary Medication and Medical Sup...           US    PA   \n",
       "2                 Medical Devices - Attached to the Body           US    PA   \n",
       "3      Medically Necessary Medication and Medical Sup...           US    PA   \n",
       "4                                               Diabetes           US    PA   \n",
       "...                                                  ...          ...   ...   \n",
       "13990    Mobility Disability (Not Wheelchair or Scooter)           US    WA   \n",
       "13991                      Prosthesis/Amputees and Casts           US    WA   \n",
       "13992        Cognitive /Developmental /Mental Disability           US    WA   \n",
       "13993  Medically Necessary Medication and Medical Sup...           US    WA   \n",
       "13994                             Metal Implants (joint)           US    OH   \n",
       "\n",
       "       icao                                 airport  latitude  longitude  \n",
       "0      KABE     Lehigh Valley International Airport   40.6521   -75.4408  \n",
       "1      KABE     Lehigh Valley International Airport   40.6521   -75.4408  \n",
       "2      KABE     Lehigh Valley International Airport   40.6521   -75.4408  \n",
       "3      KABE     Lehigh Valley International Airport   40.6521   -75.4408  \n",
       "4      KABE     Lehigh Valley International Airport   40.6521   -75.4408  \n",
       "...     ...                                     ...       ...        ...  \n",
       "13990  KYKM  Yakima Air Terminal (McAllister Field)   46.5682  -120.5440  \n",
       "13991  KYKM  Yakima Air Terminal (McAllister Field)   46.5682  -120.5440  \n",
       "13992  KYKM  Yakima Air Terminal (McAllister Field)   46.5682  -120.5440  \n",
       "13993  KYKM  Yakima Air Terminal (McAllister Field)   46.5682  -120.5440  \n",
       "13994  KYNG      Youngstown-Warren Regional Airport   41.2607   -80.6791  \n",
       "\n",
       "[13867 rows x 10 columns]"
      ]
     },
     "execution_count": 55,
     "metadata": {},
     "output_type": "execute_result"
    }
   ],
   "source": [
    "disability_complaints"
   ]
  },
  {
   "cell_type": "code",
   "execution_count": 56,
   "id": "4899eb22",
   "metadata": {},
   "outputs": [],
   "source": [
    "state_totals = disability_complaints.groupby('state')['count'].sum().reset_index()"
   ]
  },
  {
   "cell_type": "code",
   "execution_count": 57,
   "id": "b0b83611",
   "metadata": {},
   "outputs": [],
   "source": [
    "state_totals_df = df = pd.DataFrame(state_totals, columns=[\"state\", \"count\"])"
   ]
  },
  {
   "cell_type": "code",
   "execution_count": 107,
   "id": "059cb2ba",
   "metadata": {},
   "outputs": [
    {
     "data": {
      "application/vnd.plotly.v1+json": {
       "config": {
        "plotlyServerURL": "https://plot.ly"
       },
       "data": [
        {
         "coloraxis": "coloraxis",
         "geo": "geo",
         "hovertemplate": "state=%{location}<br>count=%{z}<extra></extra>",
         "locationmode": "USA-states",
         "locations": [
          "AK",
          "AL",
          "AR",
          "AZ",
          "CA",
          "CO",
          "CT",
          "DE",
          "FL",
          "GA",
          "HI",
          "IA",
          "ID",
          "IL",
          "IN",
          "KS",
          "KY",
          "LA",
          "MA",
          "MD",
          "ME",
          "MI",
          "MN",
          "MO",
          "MS",
          "MT",
          "NC",
          "ND",
          "NE",
          "NH",
          "NJ",
          "NM",
          "NV",
          "NY",
          "OH",
          "OK",
          "OR",
          "PA",
          "RI",
          "SC",
          "SD",
          "TN",
          "TX",
          "UT",
          "VA",
          "VT",
          "WA",
          "WI",
          "WV",
          "WY"
         ],
         "name": "",
         "type": "choropleth",
         "z": [
          132,
          57,
          55,
          564,
          1800,
          698,
          95,
          3,
          2356,
          552,
          325,
          82,
          47,
          605,
          97,
          14,
          85,
          214,
          415,
          327,
          24,
          287,
          267,
          242,
          31,
          61,
          440,
          19,
          10,
          22,
          589,
          79,
          588,
          1092,
          247,
          68,
          225,
          392,
          35,
          133,
          18,
          193,
          1408,
          157,
          573,
          17,
          553,
          67,
          11,
          19
         ]
        }
       ],
       "layout": {
        "coloraxis": {
         "colorbar": {
          "title": {
           "text": "count"
          }
         },
         "colorscale": [
          [
           0,
           "#0d0887"
          ],
          [
           0.1111111111111111,
           "#46039f"
          ],
          [
           0.2222222222222222,
           "#7201a8"
          ],
          [
           0.3333333333333333,
           "#9c179e"
          ],
          [
           0.4444444444444444,
           "#bd3786"
          ],
          [
           0.5555555555555556,
           "#d8576b"
          ],
          [
           0.6666666666666666,
           "#ed7953"
          ],
          [
           0.7777777777777778,
           "#fb9f3a"
          ],
          [
           0.8888888888888888,
           "#fdca26"
          ],
          [
           1,
           "#f0f921"
          ]
         ]
        },
        "geo": {
         "center": {},
         "domain": {
          "x": [
           0,
           1
          ],
          "y": [
           0,
           1
          ]
         },
         "scope": "usa"
        },
        "legend": {
         "tracegroupgap": 0
        },
        "margin": {
         "t": 60
        },
        "template": {
         "data": {
          "bar": [
           {
            "error_x": {
             "color": "#2a3f5f"
            },
            "error_y": {
             "color": "#2a3f5f"
            },
            "marker": {
             "line": {
              "color": "#E5ECF6",
              "width": 0.5
             },
             "pattern": {
              "fillmode": "overlay",
              "size": 10,
              "solidity": 0.2
             }
            },
            "type": "bar"
           }
          ],
          "barpolar": [
           {
            "marker": {
             "line": {
              "color": "#E5ECF6",
              "width": 0.5
             },
             "pattern": {
              "fillmode": "overlay",
              "size": 10,
              "solidity": 0.2
             }
            },
            "type": "barpolar"
           }
          ],
          "carpet": [
           {
            "aaxis": {
             "endlinecolor": "#2a3f5f",
             "gridcolor": "white",
             "linecolor": "white",
             "minorgridcolor": "white",
             "startlinecolor": "#2a3f5f"
            },
            "baxis": {
             "endlinecolor": "#2a3f5f",
             "gridcolor": "white",
             "linecolor": "white",
             "minorgridcolor": "white",
             "startlinecolor": "#2a3f5f"
            },
            "type": "carpet"
           }
          ],
          "choropleth": [
           {
            "colorbar": {
             "outlinewidth": 0,
             "ticks": ""
            },
            "type": "choropleth"
           }
          ],
          "contour": [
           {
            "colorbar": {
             "outlinewidth": 0,
             "ticks": ""
            },
            "colorscale": [
             [
              0,
              "#0d0887"
             ],
             [
              0.1111111111111111,
              "#46039f"
             ],
             [
              0.2222222222222222,
              "#7201a8"
             ],
             [
              0.3333333333333333,
              "#9c179e"
             ],
             [
              0.4444444444444444,
              "#bd3786"
             ],
             [
              0.5555555555555556,
              "#d8576b"
             ],
             [
              0.6666666666666666,
              "#ed7953"
             ],
             [
              0.7777777777777778,
              "#fb9f3a"
             ],
             [
              0.8888888888888888,
              "#fdca26"
             ],
             [
              1,
              "#f0f921"
             ]
            ],
            "type": "contour"
           }
          ],
          "contourcarpet": [
           {
            "colorbar": {
             "outlinewidth": 0,
             "ticks": ""
            },
            "type": "contourcarpet"
           }
          ],
          "heatmap": [
           {
            "colorbar": {
             "outlinewidth": 0,
             "ticks": ""
            },
            "colorscale": [
             [
              0,
              "#0d0887"
             ],
             [
              0.1111111111111111,
              "#46039f"
             ],
             [
              0.2222222222222222,
              "#7201a8"
             ],
             [
              0.3333333333333333,
              "#9c179e"
             ],
             [
              0.4444444444444444,
              "#bd3786"
             ],
             [
              0.5555555555555556,
              "#d8576b"
             ],
             [
              0.6666666666666666,
              "#ed7953"
             ],
             [
              0.7777777777777778,
              "#fb9f3a"
             ],
             [
              0.8888888888888888,
              "#fdca26"
             ],
             [
              1,
              "#f0f921"
             ]
            ],
            "type": "heatmap"
           }
          ],
          "heatmapgl": [
           {
            "colorbar": {
             "outlinewidth": 0,
             "ticks": ""
            },
            "colorscale": [
             [
              0,
              "#0d0887"
             ],
             [
              0.1111111111111111,
              "#46039f"
             ],
             [
              0.2222222222222222,
              "#7201a8"
             ],
             [
              0.3333333333333333,
              "#9c179e"
             ],
             [
              0.4444444444444444,
              "#bd3786"
             ],
             [
              0.5555555555555556,
              "#d8576b"
             ],
             [
              0.6666666666666666,
              "#ed7953"
             ],
             [
              0.7777777777777778,
              "#fb9f3a"
             ],
             [
              0.8888888888888888,
              "#fdca26"
             ],
             [
              1,
              "#f0f921"
             ]
            ],
            "type": "heatmapgl"
           }
          ],
          "histogram": [
           {
            "marker": {
             "pattern": {
              "fillmode": "overlay",
              "size": 10,
              "solidity": 0.2
             }
            },
            "type": "histogram"
           }
          ],
          "histogram2d": [
           {
            "colorbar": {
             "outlinewidth": 0,
             "ticks": ""
            },
            "colorscale": [
             [
              0,
              "#0d0887"
             ],
             [
              0.1111111111111111,
              "#46039f"
             ],
             [
              0.2222222222222222,
              "#7201a8"
             ],
             [
              0.3333333333333333,
              "#9c179e"
             ],
             [
              0.4444444444444444,
              "#bd3786"
             ],
             [
              0.5555555555555556,
              "#d8576b"
             ],
             [
              0.6666666666666666,
              "#ed7953"
             ],
             [
              0.7777777777777778,
              "#fb9f3a"
             ],
             [
              0.8888888888888888,
              "#fdca26"
             ],
             [
              1,
              "#f0f921"
             ]
            ],
            "type": "histogram2d"
           }
          ],
          "histogram2dcontour": [
           {
            "colorbar": {
             "outlinewidth": 0,
             "ticks": ""
            },
            "colorscale": [
             [
              0,
              "#0d0887"
             ],
             [
              0.1111111111111111,
              "#46039f"
             ],
             [
              0.2222222222222222,
              "#7201a8"
             ],
             [
              0.3333333333333333,
              "#9c179e"
             ],
             [
              0.4444444444444444,
              "#bd3786"
             ],
             [
              0.5555555555555556,
              "#d8576b"
             ],
             [
              0.6666666666666666,
              "#ed7953"
             ],
             [
              0.7777777777777778,
              "#fb9f3a"
             ],
             [
              0.8888888888888888,
              "#fdca26"
             ],
             [
              1,
              "#f0f921"
             ]
            ],
            "type": "histogram2dcontour"
           }
          ],
          "mesh3d": [
           {
            "colorbar": {
             "outlinewidth": 0,
             "ticks": ""
            },
            "type": "mesh3d"
           }
          ],
          "parcoords": [
           {
            "line": {
             "colorbar": {
              "outlinewidth": 0,
              "ticks": ""
             }
            },
            "type": "parcoords"
           }
          ],
          "pie": [
           {
            "automargin": true,
            "type": "pie"
           }
          ],
          "scatter": [
           {
            "fillpattern": {
             "fillmode": "overlay",
             "size": 10,
             "solidity": 0.2
            },
            "type": "scatter"
           }
          ],
          "scatter3d": [
           {
            "line": {
             "colorbar": {
              "outlinewidth": 0,
              "ticks": ""
             }
            },
            "marker": {
             "colorbar": {
              "outlinewidth": 0,
              "ticks": ""
             }
            },
            "type": "scatter3d"
           }
          ],
          "scattercarpet": [
           {
            "marker": {
             "colorbar": {
              "outlinewidth": 0,
              "ticks": ""
             }
            },
            "type": "scattercarpet"
           }
          ],
          "scattergeo": [
           {
            "marker": {
             "colorbar": {
              "outlinewidth": 0,
              "ticks": ""
             }
            },
            "type": "scattergeo"
           }
          ],
          "scattergl": [
           {
            "marker": {
             "colorbar": {
              "outlinewidth": 0,
              "ticks": ""
             }
            },
            "type": "scattergl"
           }
          ],
          "scattermapbox": [
           {
            "marker": {
             "colorbar": {
              "outlinewidth": 0,
              "ticks": ""
             }
            },
            "type": "scattermapbox"
           }
          ],
          "scatterpolar": [
           {
            "marker": {
             "colorbar": {
              "outlinewidth": 0,
              "ticks": ""
             }
            },
            "type": "scatterpolar"
           }
          ],
          "scatterpolargl": [
           {
            "marker": {
             "colorbar": {
              "outlinewidth": 0,
              "ticks": ""
             }
            },
            "type": "scatterpolargl"
           }
          ],
          "scatterternary": [
           {
            "marker": {
             "colorbar": {
              "outlinewidth": 0,
              "ticks": ""
             }
            },
            "type": "scatterternary"
           }
          ],
          "surface": [
           {
            "colorbar": {
             "outlinewidth": 0,
             "ticks": ""
            },
            "colorscale": [
             [
              0,
              "#0d0887"
             ],
             [
              0.1111111111111111,
              "#46039f"
             ],
             [
              0.2222222222222222,
              "#7201a8"
             ],
             [
              0.3333333333333333,
              "#9c179e"
             ],
             [
              0.4444444444444444,
              "#bd3786"
             ],
             [
              0.5555555555555556,
              "#d8576b"
             ],
             [
              0.6666666666666666,
              "#ed7953"
             ],
             [
              0.7777777777777778,
              "#fb9f3a"
             ],
             [
              0.8888888888888888,
              "#fdca26"
             ],
             [
              1,
              "#f0f921"
             ]
            ],
            "type": "surface"
           }
          ],
          "table": [
           {
            "cells": {
             "fill": {
              "color": "#EBF0F8"
             },
             "line": {
              "color": "white"
             }
            },
            "header": {
             "fill": {
              "color": "#C8D4E3"
             },
             "line": {
              "color": "white"
             }
            },
            "type": "table"
           }
          ]
         },
         "layout": {
          "annotationdefaults": {
           "arrowcolor": "#2a3f5f",
           "arrowhead": 0,
           "arrowwidth": 1
          },
          "autotypenumbers": "strict",
          "coloraxis": {
           "colorbar": {
            "outlinewidth": 0,
            "ticks": ""
           }
          },
          "colorscale": {
           "diverging": [
            [
             0,
             "#8e0152"
            ],
            [
             0.1,
             "#c51b7d"
            ],
            [
             0.2,
             "#de77ae"
            ],
            [
             0.3,
             "#f1b6da"
            ],
            [
             0.4,
             "#fde0ef"
            ],
            [
             0.5,
             "#f7f7f7"
            ],
            [
             0.6,
             "#e6f5d0"
            ],
            [
             0.7,
             "#b8e186"
            ],
            [
             0.8,
             "#7fbc41"
            ],
            [
             0.9,
             "#4d9221"
            ],
            [
             1,
             "#276419"
            ]
           ],
           "sequential": [
            [
             0,
             "#0d0887"
            ],
            [
             0.1111111111111111,
             "#46039f"
            ],
            [
             0.2222222222222222,
             "#7201a8"
            ],
            [
             0.3333333333333333,
             "#9c179e"
            ],
            [
             0.4444444444444444,
             "#bd3786"
            ],
            [
             0.5555555555555556,
             "#d8576b"
            ],
            [
             0.6666666666666666,
             "#ed7953"
            ],
            [
             0.7777777777777778,
             "#fb9f3a"
            ],
            [
             0.8888888888888888,
             "#fdca26"
            ],
            [
             1,
             "#f0f921"
            ]
           ],
           "sequentialminus": [
            [
             0,
             "#0d0887"
            ],
            [
             0.1111111111111111,
             "#46039f"
            ],
            [
             0.2222222222222222,
             "#7201a8"
            ],
            [
             0.3333333333333333,
             "#9c179e"
            ],
            [
             0.4444444444444444,
             "#bd3786"
            ],
            [
             0.5555555555555556,
             "#d8576b"
            ],
            [
             0.6666666666666666,
             "#ed7953"
            ],
            [
             0.7777777777777778,
             "#fb9f3a"
            ],
            [
             0.8888888888888888,
             "#fdca26"
            ],
            [
             1,
             "#f0f921"
            ]
           ]
          },
          "colorway": [
           "#636efa",
           "#EF553B",
           "#00cc96",
           "#ab63fa",
           "#FFA15A",
           "#19d3f3",
           "#FF6692",
           "#B6E880",
           "#FF97FF",
           "#FECB52"
          ],
          "font": {
           "color": "#2a3f5f"
          },
          "geo": {
           "bgcolor": "white",
           "lakecolor": "white",
           "landcolor": "#E5ECF6",
           "showlakes": true,
           "showland": true,
           "subunitcolor": "white"
          },
          "hoverlabel": {
           "align": "left"
          },
          "hovermode": "closest",
          "mapbox": {
           "style": "light"
          },
          "paper_bgcolor": "white",
          "plot_bgcolor": "#E5ECF6",
          "polar": {
           "angularaxis": {
            "gridcolor": "white",
            "linecolor": "white",
            "ticks": ""
           },
           "bgcolor": "#E5ECF6",
           "radialaxis": {
            "gridcolor": "white",
            "linecolor": "white",
            "ticks": ""
           }
          },
          "scene": {
           "xaxis": {
            "backgroundcolor": "#E5ECF6",
            "gridcolor": "white",
            "gridwidth": 2,
            "linecolor": "white",
            "showbackground": true,
            "ticks": "",
            "zerolinecolor": "white"
           },
           "yaxis": {
            "backgroundcolor": "#E5ECF6",
            "gridcolor": "white",
            "gridwidth": 2,
            "linecolor": "white",
            "showbackground": true,
            "ticks": "",
            "zerolinecolor": "white"
           },
           "zaxis": {
            "backgroundcolor": "#E5ECF6",
            "gridcolor": "white",
            "gridwidth": 2,
            "linecolor": "white",
            "showbackground": true,
            "ticks": "",
            "zerolinecolor": "white"
           }
          },
          "shapedefaults": {
           "line": {
            "color": "#2a3f5f"
           }
          },
          "ternary": {
           "aaxis": {
            "gridcolor": "white",
            "linecolor": "white",
            "ticks": ""
           },
           "baxis": {
            "gridcolor": "white",
            "linecolor": "white",
            "ticks": ""
           },
           "bgcolor": "#E5ECF6",
           "caxis": {
            "gridcolor": "white",
            "linecolor": "white",
            "ticks": ""
           }
          },
          "title": {
           "x": 0.05
          },
          "xaxis": {
           "automargin": true,
           "gridcolor": "white",
           "linecolor": "white",
           "ticks": "",
           "title": {
            "standoff": 15
           },
           "zerolinecolor": "white",
           "zerolinewidth": 2
          },
          "yaxis": {
           "automargin": true,
           "gridcolor": "white",
           "linecolor": "white",
           "ticks": "",
           "title": {
            "standoff": 15
           },
           "zerolinecolor": "white",
           "zerolinewidth": 2
          }
         }
        }
       }
      },
      "text/html": [
       "<div>                            <div id=\"eb64800c-2bbb-4c05-87b8-e5daf2d5b564\" class=\"plotly-graph-div\" style=\"height:525px; width:100%;\"></div>            <script type=\"text/javascript\">                require([\"plotly\"], function(Plotly) {                    window.PLOTLYENV=window.PLOTLYENV || {};                                    if (document.getElementById(\"eb64800c-2bbb-4c05-87b8-e5daf2d5b564\")) {                    Plotly.newPlot(                        \"eb64800c-2bbb-4c05-87b8-e5daf2d5b564\",                        [{\"coloraxis\":\"coloraxis\",\"geo\":\"geo\",\"hovertemplate\":\"state=%{location}<br>count=%{z}<extra></extra>\",\"locationmode\":\"USA-states\",\"locations\":[\"AK\",\"AL\",\"AR\",\"AZ\",\"CA\",\"CO\",\"CT\",\"DE\",\"FL\",\"GA\",\"HI\",\"IA\",\"ID\",\"IL\",\"IN\",\"KS\",\"KY\",\"LA\",\"MA\",\"MD\",\"ME\",\"MI\",\"MN\",\"MO\",\"MS\",\"MT\",\"NC\",\"ND\",\"NE\",\"NH\",\"NJ\",\"NM\",\"NV\",\"NY\",\"OH\",\"OK\",\"OR\",\"PA\",\"RI\",\"SC\",\"SD\",\"TN\",\"TX\",\"UT\",\"VA\",\"VT\",\"WA\",\"WI\",\"WV\",\"WY\"],\"name\":\"\",\"z\":[132,57,55,564,1800,698,95,3,2356,552,325,82,47,605,97,14,85,214,415,327,24,287,267,242,31,61,440,19,10,22,589,79,588,1092,247,68,225,392,35,133,18,193,1408,157,573,17,553,67,11,19],\"type\":\"choropleth\"}],                        {\"template\":{\"data\":{\"histogram2dcontour\":[{\"type\":\"histogram2dcontour\",\"colorbar\":{\"outlinewidth\":0,\"ticks\":\"\"},\"colorscale\":[[0.0,\"#0d0887\"],[0.1111111111111111,\"#46039f\"],[0.2222222222222222,\"#7201a8\"],[0.3333333333333333,\"#9c179e\"],[0.4444444444444444,\"#bd3786\"],[0.5555555555555556,\"#d8576b\"],[0.6666666666666666,\"#ed7953\"],[0.7777777777777778,\"#fb9f3a\"],[0.8888888888888888,\"#fdca26\"],[1.0,\"#f0f921\"]]}],\"choropleth\":[{\"type\":\"choropleth\",\"colorbar\":{\"outlinewidth\":0,\"ticks\":\"\"}}],\"histogram2d\":[{\"type\":\"histogram2d\",\"colorbar\":{\"outlinewidth\":0,\"ticks\":\"\"},\"colorscale\":[[0.0,\"#0d0887\"],[0.1111111111111111,\"#46039f\"],[0.2222222222222222,\"#7201a8\"],[0.3333333333333333,\"#9c179e\"],[0.4444444444444444,\"#bd3786\"],[0.5555555555555556,\"#d8576b\"],[0.6666666666666666,\"#ed7953\"],[0.7777777777777778,\"#fb9f3a\"],[0.8888888888888888,\"#fdca26\"],[1.0,\"#f0f921\"]]}],\"heatmap\":[{\"type\":\"heatmap\",\"colorbar\":{\"outlinewidth\":0,\"ticks\":\"\"},\"colorscale\":[[0.0,\"#0d0887\"],[0.1111111111111111,\"#46039f\"],[0.2222222222222222,\"#7201a8\"],[0.3333333333333333,\"#9c179e\"],[0.4444444444444444,\"#bd3786\"],[0.5555555555555556,\"#d8576b\"],[0.6666666666666666,\"#ed7953\"],[0.7777777777777778,\"#fb9f3a\"],[0.8888888888888888,\"#fdca26\"],[1.0,\"#f0f921\"]]}],\"heatmapgl\":[{\"type\":\"heatmapgl\",\"colorbar\":{\"outlinewidth\":0,\"ticks\":\"\"},\"colorscale\":[[0.0,\"#0d0887\"],[0.1111111111111111,\"#46039f\"],[0.2222222222222222,\"#7201a8\"],[0.3333333333333333,\"#9c179e\"],[0.4444444444444444,\"#bd3786\"],[0.5555555555555556,\"#d8576b\"],[0.6666666666666666,\"#ed7953\"],[0.7777777777777778,\"#fb9f3a\"],[0.8888888888888888,\"#fdca26\"],[1.0,\"#f0f921\"]]}],\"contourcarpet\":[{\"type\":\"contourcarpet\",\"colorbar\":{\"outlinewidth\":0,\"ticks\":\"\"}}],\"contour\":[{\"type\":\"contour\",\"colorbar\":{\"outlinewidth\":0,\"ticks\":\"\"},\"colorscale\":[[0.0,\"#0d0887\"],[0.1111111111111111,\"#46039f\"],[0.2222222222222222,\"#7201a8\"],[0.3333333333333333,\"#9c179e\"],[0.4444444444444444,\"#bd3786\"],[0.5555555555555556,\"#d8576b\"],[0.6666666666666666,\"#ed7953\"],[0.7777777777777778,\"#fb9f3a\"],[0.8888888888888888,\"#fdca26\"],[1.0,\"#f0f921\"]]}],\"surface\":[{\"type\":\"surface\",\"colorbar\":{\"outlinewidth\":0,\"ticks\":\"\"},\"colorscale\":[[0.0,\"#0d0887\"],[0.1111111111111111,\"#46039f\"],[0.2222222222222222,\"#7201a8\"],[0.3333333333333333,\"#9c179e\"],[0.4444444444444444,\"#bd3786\"],[0.5555555555555556,\"#d8576b\"],[0.6666666666666666,\"#ed7953\"],[0.7777777777777778,\"#fb9f3a\"],[0.8888888888888888,\"#fdca26\"],[1.0,\"#f0f921\"]]}],\"mesh3d\":[{\"type\":\"mesh3d\",\"colorbar\":{\"outlinewidth\":0,\"ticks\":\"\"}}],\"scatter\":[{\"fillpattern\":{\"fillmode\":\"overlay\",\"size\":10,\"solidity\":0.2},\"type\":\"scatter\"}],\"parcoords\":[{\"type\":\"parcoords\",\"line\":{\"colorbar\":{\"outlinewidth\":0,\"ticks\":\"\"}}}],\"scatterpolargl\":[{\"type\":\"scatterpolargl\",\"marker\":{\"colorbar\":{\"outlinewidth\":0,\"ticks\":\"\"}}}],\"bar\":[{\"error_x\":{\"color\":\"#2a3f5f\"},\"error_y\":{\"color\":\"#2a3f5f\"},\"marker\":{\"line\":{\"color\":\"#E5ECF6\",\"width\":0.5},\"pattern\":{\"fillmode\":\"overlay\",\"size\":10,\"solidity\":0.2}},\"type\":\"bar\"}],\"scattergeo\":[{\"type\":\"scattergeo\",\"marker\":{\"colorbar\":{\"outlinewidth\":0,\"ticks\":\"\"}}}],\"scatterpolar\":[{\"type\":\"scatterpolar\",\"marker\":{\"colorbar\":{\"outlinewidth\":0,\"ticks\":\"\"}}}],\"histogram\":[{\"marker\":{\"pattern\":{\"fillmode\":\"overlay\",\"size\":10,\"solidity\":0.2}},\"type\":\"histogram\"}],\"scattergl\":[{\"type\":\"scattergl\",\"marker\":{\"colorbar\":{\"outlinewidth\":0,\"ticks\":\"\"}}}],\"scatter3d\":[{\"type\":\"scatter3d\",\"line\":{\"colorbar\":{\"outlinewidth\":0,\"ticks\":\"\"}},\"marker\":{\"colorbar\":{\"outlinewidth\":0,\"ticks\":\"\"}}}],\"scattermapbox\":[{\"type\":\"scattermapbox\",\"marker\":{\"colorbar\":{\"outlinewidth\":0,\"ticks\":\"\"}}}],\"scatterternary\":[{\"type\":\"scatterternary\",\"marker\":{\"colorbar\":{\"outlinewidth\":0,\"ticks\":\"\"}}}],\"scattercarpet\":[{\"type\":\"scattercarpet\",\"marker\":{\"colorbar\":{\"outlinewidth\":0,\"ticks\":\"\"}}}],\"carpet\":[{\"aaxis\":{\"endlinecolor\":\"#2a3f5f\",\"gridcolor\":\"white\",\"linecolor\":\"white\",\"minorgridcolor\":\"white\",\"startlinecolor\":\"#2a3f5f\"},\"baxis\":{\"endlinecolor\":\"#2a3f5f\",\"gridcolor\":\"white\",\"linecolor\":\"white\",\"minorgridcolor\":\"white\",\"startlinecolor\":\"#2a3f5f\"},\"type\":\"carpet\"}],\"table\":[{\"cells\":{\"fill\":{\"color\":\"#EBF0F8\"},\"line\":{\"color\":\"white\"}},\"header\":{\"fill\":{\"color\":\"#C8D4E3\"},\"line\":{\"color\":\"white\"}},\"type\":\"table\"}],\"barpolar\":[{\"marker\":{\"line\":{\"color\":\"#E5ECF6\",\"width\":0.5},\"pattern\":{\"fillmode\":\"overlay\",\"size\":10,\"solidity\":0.2}},\"type\":\"barpolar\"}],\"pie\":[{\"automargin\":true,\"type\":\"pie\"}]},\"layout\":{\"autotypenumbers\":\"strict\",\"colorway\":[\"#636efa\",\"#EF553B\",\"#00cc96\",\"#ab63fa\",\"#FFA15A\",\"#19d3f3\",\"#FF6692\",\"#B6E880\",\"#FF97FF\",\"#FECB52\"],\"font\":{\"color\":\"#2a3f5f\"},\"hovermode\":\"closest\",\"hoverlabel\":{\"align\":\"left\"},\"paper_bgcolor\":\"white\",\"plot_bgcolor\":\"#E5ECF6\",\"polar\":{\"bgcolor\":\"#E5ECF6\",\"angularaxis\":{\"gridcolor\":\"white\",\"linecolor\":\"white\",\"ticks\":\"\"},\"radialaxis\":{\"gridcolor\":\"white\",\"linecolor\":\"white\",\"ticks\":\"\"}},\"ternary\":{\"bgcolor\":\"#E5ECF6\",\"aaxis\":{\"gridcolor\":\"white\",\"linecolor\":\"white\",\"ticks\":\"\"},\"baxis\":{\"gridcolor\":\"white\",\"linecolor\":\"white\",\"ticks\":\"\"},\"caxis\":{\"gridcolor\":\"white\",\"linecolor\":\"white\",\"ticks\":\"\"}},\"coloraxis\":{\"colorbar\":{\"outlinewidth\":0,\"ticks\":\"\"}},\"colorscale\":{\"sequential\":[[0.0,\"#0d0887\"],[0.1111111111111111,\"#46039f\"],[0.2222222222222222,\"#7201a8\"],[0.3333333333333333,\"#9c179e\"],[0.4444444444444444,\"#bd3786\"],[0.5555555555555556,\"#d8576b\"],[0.6666666666666666,\"#ed7953\"],[0.7777777777777778,\"#fb9f3a\"],[0.8888888888888888,\"#fdca26\"],[1.0,\"#f0f921\"]],\"sequentialminus\":[[0.0,\"#0d0887\"],[0.1111111111111111,\"#46039f\"],[0.2222222222222222,\"#7201a8\"],[0.3333333333333333,\"#9c179e\"],[0.4444444444444444,\"#bd3786\"],[0.5555555555555556,\"#d8576b\"],[0.6666666666666666,\"#ed7953\"],[0.7777777777777778,\"#fb9f3a\"],[0.8888888888888888,\"#fdca26\"],[1.0,\"#f0f921\"]],\"diverging\":[[0,\"#8e0152\"],[0.1,\"#c51b7d\"],[0.2,\"#de77ae\"],[0.3,\"#f1b6da\"],[0.4,\"#fde0ef\"],[0.5,\"#f7f7f7\"],[0.6,\"#e6f5d0\"],[0.7,\"#b8e186\"],[0.8,\"#7fbc41\"],[0.9,\"#4d9221\"],[1,\"#276419\"]]},\"xaxis\":{\"gridcolor\":\"white\",\"linecolor\":\"white\",\"ticks\":\"\",\"title\":{\"standoff\":15},\"zerolinecolor\":\"white\",\"automargin\":true,\"zerolinewidth\":2},\"yaxis\":{\"gridcolor\":\"white\",\"linecolor\":\"white\",\"ticks\":\"\",\"title\":{\"standoff\":15},\"zerolinecolor\":\"white\",\"automargin\":true,\"zerolinewidth\":2},\"scene\":{\"xaxis\":{\"backgroundcolor\":\"#E5ECF6\",\"gridcolor\":\"white\",\"linecolor\":\"white\",\"showbackground\":true,\"ticks\":\"\",\"zerolinecolor\":\"white\",\"gridwidth\":2},\"yaxis\":{\"backgroundcolor\":\"#E5ECF6\",\"gridcolor\":\"white\",\"linecolor\":\"white\",\"showbackground\":true,\"ticks\":\"\",\"zerolinecolor\":\"white\",\"gridwidth\":2},\"zaxis\":{\"backgroundcolor\":\"#E5ECF6\",\"gridcolor\":\"white\",\"linecolor\":\"white\",\"showbackground\":true,\"ticks\":\"\",\"zerolinecolor\":\"white\",\"gridwidth\":2}},\"shapedefaults\":{\"line\":{\"color\":\"#2a3f5f\"}},\"annotationdefaults\":{\"arrowcolor\":\"#2a3f5f\",\"arrowhead\":0,\"arrowwidth\":1},\"geo\":{\"bgcolor\":\"white\",\"landcolor\":\"#E5ECF6\",\"subunitcolor\":\"white\",\"showland\":true,\"showlakes\":true,\"lakecolor\":\"white\"},\"title\":{\"x\":0.05},\"mapbox\":{\"style\":\"light\"}}},\"geo\":{\"domain\":{\"x\":[0.0,1.0],\"y\":[0.0,1.0]},\"center\":{},\"scope\":\"usa\"},\"coloraxis\":{\"colorbar\":{\"title\":{\"text\":\"count\"}},\"colorscale\":[[0.0,\"#0d0887\"],[0.1111111111111111,\"#46039f\"],[0.2222222222222222,\"#7201a8\"],[0.3333333333333333,\"#9c179e\"],[0.4444444444444444,\"#bd3786\"],[0.5555555555555556,\"#d8576b\"],[0.6666666666666666,\"#ed7953\"],[0.7777777777777778,\"#fb9f3a\"],[0.8888888888888888,\"#fdca26\"],[1.0,\"#f0f921\"]]},\"legend\":{\"tracegroupgap\":0},\"margin\":{\"t\":60}},                        {\"responsive\": true}                    ).then(function(){\n",
       "                            \n",
       "var gd = document.getElementById('eb64800c-2bbb-4c05-87b8-e5daf2d5b564');\n",
       "var x = new MutationObserver(function (mutations, observer) {{\n",
       "        var display = window.getComputedStyle(gd).display;\n",
       "        if (!display || display === 'none') {{\n",
       "            console.log([gd, 'removed!']);\n",
       "            Plotly.purge(gd);\n",
       "            observer.disconnect();\n",
       "        }}\n",
       "}});\n",
       "\n",
       "// Listen for the removal of the full notebook cells\n",
       "var notebookContainer = gd.closest('#notebook-container');\n",
       "if (notebookContainer) {{\n",
       "    x.observe(notebookContainer, {childList: true});\n",
       "}}\n",
       "\n",
       "// Listen for the clearing of the current output cell\n",
       "var outputEl = gd.closest('.output');\n",
       "if (outputEl) {{\n",
       "    x.observe(outputEl, {childList: true});\n",
       "}}\n",
       "\n",
       "                        })                };                });            </script>        </div>"
      ]
     },
     "metadata": {},
     "output_type": "display_data"
    }
   ],
   "source": [
    "import plotly.express as px\n",
    "fig = px.choropleth(state_totals_df,\n",
    "                    locations='state', \n",
    "                    locationmode=\"USA-states\", \n",
    "                    scope=\"usa\",\n",
    "                    color='count', \n",
    "                    \n",
    "                    )\n",
    "fig.show()"
   ]
  },
  {
   "cell_type": "code",
   "execution_count": 59,
   "id": "0af053df",
   "metadata": {},
   "outputs": [],
   "source": [
    "disability_complaints['year_month'] = pd.to_datetime(disability_complaints['year_month'])"
   ]
  },
  {
   "cell_type": "code",
   "execution_count": 60,
   "id": "23dc579f",
   "metadata": {},
   "outputs": [],
   "source": [
    "disability_complaints['year'] = pd.DatetimeIndex(disability_complaints['year_month']).year\n",
    "disability_complaints['month'] = pd.DatetimeIndex(disability_complaints['year_month']).month"
   ]
  },
  {
   "cell_type": "code",
   "execution_count": 104,
   "id": "bcd560ca",
   "metadata": {},
   "outputs": [],
   "source": [
    "year_month = disability_complaints['year_month']\n",
    "year = disability_complaints['year']\n",
    "month = disability_complaints['month']\n",
    "count = disability_complaints.groupby('month')['count'].sum()"
   ]
  },
  {
   "cell_type": "code",
   "execution_count": 139,
   "id": "4f1335e3",
   "metadata": {},
   "outputs": [
    {
     "data": {
      "text/plain": [
       "<AxesSubplot:xlabel='month', ylabel='count'>"
      ]
     },
     "execution_count": 139,
     "metadata": {},
     "output_type": "execute_result"
    },
    {
     "data": {
      "image/png": "[encoded data removed]",
      "text/plain": [
       "<Figure size 640x480 with 1 Axes>"
      ]
     },
     "metadata": {},
     "output_type": "display_data"
    }
   ],
   "source": [
    "import seaborn as sns\n",
    "sns.barplot(data=disability_complaints, x='month', y='count')"
   ]
  },
  {
   "cell_type": "code",
   "execution_count": 106,
   "id": "32cb872d",
   "metadata": {},
   "outputs": [
    {
     "data": {
      "text/plain": [
       "<AxesSubplot:xlabel='year', ylabel='count'>"
      ]
     },
     "execution_count": 106,
     "metadata": {},
     "output_type": "execute_result"
    },
    {
     "data": {
      "image/png": "[encoded data removed]",
      "text/plain": [
       "<Figure size 640x480 with 1 Axes>"
      ]
     },
     "metadata": {},
     "output_type": "display_data"
    }
   ],
   "source": [
    "sns.lineplot(data=disability_complaints, x='year', y='count')"
   ]
  },
  {
   "cell_type": "code",
   "execution_count": 68,
   "id": "f95e3a97",
   "metadata": {},
   "outputs": [],
   "source": [
    "by_disability = subcat_counts[subcat_counts['clean_subcat'].isin(['Wheelchair/ Scooter/ Segway', \n",
    "                                                                              'Mobility Disability (Not Wheelchair or Scooter)', \n",
    "                                                                              'Cognitive /Developmental /Mental Disability',\n",
    "                                                                              'Hearing Impairment', 'Visual Impairment'])]"
   ]
  },
  {
   "cell_type": "code",
   "execution_count": 69,
   "id": "5b0dcfc6",
   "metadata": {},
   "outputs": [
    {
     "name": "stderr",
     "output_type": "stream",
     "text": [
      "C:\\Users\\saman\\AppData\\Local\\Temp\\ipykernel_11572\\3306839431.py:1: SettingWithCopyWarning:\n",
      "\n",
      "\n",
      "A value is trying to be set on a copy of a slice from a DataFrame.\n",
      "Try using .loc[row_indexer,col_indexer] = value instead\n",
      "\n",
      "See the caveats in the documentation: https://pandas.pydata.org/pandas-docs/stable/user_guide/indexing.html#returning-a-view-versus-a-copy\n",
      "\n"
     ]
    }
   ],
   "source": [
    "by_disability['clean_subcat'] = by_disability['clean_subcat'].replace({'Wheelchair/ Scooter/ Segway': 'Wheelchair, etc.',\n",
    "                                                       'Mobility Disability (Not Wheelchair or Scooter)': 'Mobility-Other',\n",
    "                                                       'Cognitive /Developmental /Mental Disability': 'Cognitive',\n",
    "                                                       'Hearing Impairment': 'Deaf', 'Visual Impairment': 'Blind'})"
   ]
  },
  {
   "cell_type": "code",
   "execution_count": 72,
   "id": "155fffa6",
   "metadata": {},
   "outputs": [
    {
     "data": {
      "text/html": [
       "<div>\n",
       "<style scoped>\n",
       "    .dataframe tbody tr th:only-of-type {\n",
       "        vertical-align: middle;\n",
       "    }\n",
       "\n",
       "    .dataframe tbody tr th {\n",
       "        vertical-align: top;\n",
       "    }\n",
       "\n",
       "    .dataframe thead th {\n",
       "        text-align: right;\n",
       "    }\n",
       "</style>\n",
       "<table border=\"1\" class=\"dataframe\">\n",
       "  <thead>\n",
       "    <tr style=\"text-align: right;\">\n",
       "      <th></th>\n",
       "      <th>iata</th>\n",
       "      <th>year_month</th>\n",
       "      <th>count</th>\n",
       "      <th>clean_subcat</th>\n",
       "      <th>country_code</th>\n",
       "      <th>state</th>\n",
       "      <th>icao</th>\n",
       "      <th>airport</th>\n",
       "      <th>latitude</th>\n",
       "      <th>longitude</th>\n",
       "      <th>year</th>\n",
       "      <th>month</th>\n",
       "    </tr>\n",
       "  </thead>\n",
       "  <tbody>\n",
       "    <tr>\n",
       "      <th>9620</th>\n",
       "      <td>OGG</td>\n",
       "      <td>2022-09-01</td>\n",
       "      <td>23</td>\n",
       "      <td>Metal Implants (joint)</td>\n",
       "      <td>US</td>\n",
       "      <td>HI</td>\n",
       "      <td>PHOG</td>\n",
       "      <td>Kahului Airport</td>\n",
       "      <td>20.8986</td>\n",
       "      <td>-156.4300</td>\n",
       "      <td>2022</td>\n",
       "      <td>9</td>\n",
       "    </tr>\n",
       "    <tr>\n",
       "      <th>9622</th>\n",
       "      <td>OGG</td>\n",
       "      <td>2022-10-01</td>\n",
       "      <td>14</td>\n",
       "      <td>Metal Implants (joint)</td>\n",
       "      <td>US</td>\n",
       "      <td>HI</td>\n",
       "      <td>PHOG</td>\n",
       "      <td>Kahului Airport</td>\n",
       "      <td>20.8986</td>\n",
       "      <td>-156.4300</td>\n",
       "      <td>2022</td>\n",
       "      <td>10</td>\n",
       "    </tr>\n",
       "    <tr>\n",
       "      <th>8258</th>\n",
       "      <td>MCO</td>\n",
       "      <td>2022-05-01</td>\n",
       "      <td>10</td>\n",
       "      <td>Medically Necessary Medication and Medical Sup...</td>\n",
       "      <td>US</td>\n",
       "      <td>FL</td>\n",
       "      <td>KMCO</td>\n",
       "      <td>Orlando International Airport</td>\n",
       "      <td>28.4294</td>\n",
       "      <td>-81.3090</td>\n",
       "      <td>2022</td>\n",
       "      <td>5</td>\n",
       "    </tr>\n",
       "    <tr>\n",
       "      <th>7932</th>\n",
       "      <td>MCO</td>\n",
       "      <td>2017-10-01</td>\n",
       "      <td>8</td>\n",
       "      <td>Wheelchair/ Scooter/ Segway</td>\n",
       "      <td>US</td>\n",
       "      <td>FL</td>\n",
       "      <td>KMCO</td>\n",
       "      <td>Orlando International Airport</td>\n",
       "      <td>28.4294</td>\n",
       "      <td>-81.3090</td>\n",
       "      <td>2017</td>\n",
       "      <td>10</td>\n",
       "    </tr>\n",
       "    <tr>\n",
       "      <th>8344</th>\n",
       "      <td>MCO</td>\n",
       "      <td>2023-06-01</td>\n",
       "      <td>7</td>\n",
       "      <td>Medically Necessary Medication and Medical Sup...</td>\n",
       "      <td>US</td>\n",
       "      <td>FL</td>\n",
       "      <td>KMCO</td>\n",
       "      <td>Orlando International Airport</td>\n",
       "      <td>28.4294</td>\n",
       "      <td>-81.3090</td>\n",
       "      <td>2023</td>\n",
       "      <td>6</td>\n",
       "    </tr>\n",
       "    <tr>\n",
       "      <th>...</th>\n",
       "      <td>...</td>\n",
       "      <td>...</td>\n",
       "      <td>...</td>\n",
       "      <td>...</td>\n",
       "      <td>...</td>\n",
       "      <td>...</td>\n",
       "      <td>...</td>\n",
       "      <td>...</td>\n",
       "      <td>...</td>\n",
       "      <td>...</td>\n",
       "      <td>...</td>\n",
       "      <td>...</td>\n",
       "    </tr>\n",
       "    <tr>\n",
       "      <th>4973</th>\n",
       "      <td>GSO</td>\n",
       "      <td>2019-11-01</td>\n",
       "      <td>1</td>\n",
       "      <td>Hearing Impairment</td>\n",
       "      <td>US</td>\n",
       "      <td>NC</td>\n",
       "      <td>KGSO</td>\n",
       "      <td>Piedmont Triad International Airport</td>\n",
       "      <td>36.0978</td>\n",
       "      <td>-79.9373</td>\n",
       "      <td>2019</td>\n",
       "      <td>11</td>\n",
       "    </tr>\n",
       "    <tr>\n",
       "      <th>4974</th>\n",
       "      <td>GSO</td>\n",
       "      <td>2019-11-01</td>\n",
       "      <td>1</td>\n",
       "      <td>Mobility Disability (Not Wheelchair or Scooter)</td>\n",
       "      <td>US</td>\n",
       "      <td>NC</td>\n",
       "      <td>KGSO</td>\n",
       "      <td>Piedmont Triad International Airport</td>\n",
       "      <td>36.0978</td>\n",
       "      <td>-79.9373</td>\n",
       "      <td>2019</td>\n",
       "      <td>11</td>\n",
       "    </tr>\n",
       "    <tr>\n",
       "      <th>4975</th>\n",
       "      <td>GSO</td>\n",
       "      <td>2020-03-01</td>\n",
       "      <td>1</td>\n",
       "      <td>Diabetes</td>\n",
       "      <td>US</td>\n",
       "      <td>NC</td>\n",
       "      <td>KGSO</td>\n",
       "      <td>Piedmont Triad International Airport</td>\n",
       "      <td>36.0978</td>\n",
       "      <td>-79.9373</td>\n",
       "      <td>2020</td>\n",
       "      <td>3</td>\n",
       "    </tr>\n",
       "    <tr>\n",
       "      <th>4976</th>\n",
       "      <td>GSO</td>\n",
       "      <td>2020-03-01</td>\n",
       "      <td>1</td>\n",
       "      <td>Mobility Disability (Not Wheelchair or Scooter)</td>\n",
       "      <td>US</td>\n",
       "      <td>NC</td>\n",
       "      <td>KGSO</td>\n",
       "      <td>Piedmont Triad International Airport</td>\n",
       "      <td>36.0978</td>\n",
       "      <td>-79.9373</td>\n",
       "      <td>2020</td>\n",
       "      <td>3</td>\n",
       "    </tr>\n",
       "    <tr>\n",
       "      <th>13994</th>\n",
       "      <td>YNG</td>\n",
       "      <td>2015-10-01</td>\n",
       "      <td>1</td>\n",
       "      <td>Metal Implants (joint)</td>\n",
       "      <td>US</td>\n",
       "      <td>OH</td>\n",
       "      <td>KYNG</td>\n",
       "      <td>Youngstown-Warren Regional Airport</td>\n",
       "      <td>41.2607</td>\n",
       "      <td>-80.6791</td>\n",
       "      <td>2015</td>\n",
       "      <td>10</td>\n",
       "    </tr>\n",
       "  </tbody>\n",
       "</table>\n",
       "<p>13867 rows × 12 columns</p>\n",
       "</div>"
      ],
      "text/plain": [
       "      iata year_month  count  \\\n",
       "9620   OGG 2022-09-01     23   \n",
       "9622   OGG 2022-10-01     14   \n",
       "8258   MCO 2022-05-01     10   \n",
       "7932   MCO 2017-10-01      8   \n",
       "8344   MCO 2023-06-01      7   \n",
       "...    ...        ...    ...   \n",
       "4973   GSO 2019-11-01      1   \n",
       "4974   GSO 2019-11-01      1   \n",
       "4975   GSO 2020-03-01      1   \n",
       "4976   GSO 2020-03-01      1   \n",
       "13994  YNG 2015-10-01      1   \n",
       "\n",
       "                                            clean_subcat country_code state  \\\n",
       "9620                              Metal Implants (joint)           US    HI   \n",
       "9622                              Metal Implants (joint)           US    HI   \n",
       "8258   Medically Necessary Medication and Medical Sup...           US    FL   \n",
       "7932                         Wheelchair/ Scooter/ Segway           US    FL   \n",
       "8344   Medically Necessary Medication and Medical Sup...           US    FL   \n",
       "...                                                  ...          ...   ...   \n",
       "4973                                  Hearing Impairment           US    NC   \n",
       "4974     Mobility Disability (Not Wheelchair or Scooter)           US    NC   \n",
       "4975                                            Diabetes           US    NC   \n",
       "4976     Mobility Disability (Not Wheelchair or Scooter)           US    NC   \n",
       "13994                             Metal Implants (joint)           US    OH   \n",
       "\n",
       "       icao                               airport  latitude  longitude  year  \\\n",
       "9620   PHOG                       Kahului Airport   20.8986  -156.4300  2022   \n",
       "9622   PHOG                       Kahului Airport   20.8986  -156.4300  2022   \n",
       "8258   KMCO         Orlando International Airport   28.4294   -81.3090  2022   \n",
       "7932   KMCO         Orlando International Airport   28.4294   -81.3090  2017   \n",
       "8344   KMCO         Orlando International Airport   28.4294   -81.3090  2023   \n",
       "...     ...                                   ...       ...        ...   ...   \n",
       "4973   KGSO  Piedmont Triad International Airport   36.0978   -79.9373  2019   \n",
       "4974   KGSO  Piedmont Triad International Airport   36.0978   -79.9373  2019   \n",
       "4975   KGSO  Piedmont Triad International Airport   36.0978   -79.9373  2020   \n",
       "4976   KGSO  Piedmont Triad International Airport   36.0978   -79.9373  2020   \n",
       "13994  KYNG    Youngstown-Warren Regional Airport   41.2607   -80.6791  2015   \n",
       "\n",
       "       month  \n",
       "9620       9  \n",
       "9622      10  \n",
       "8258       5  \n",
       "7932      10  \n",
       "8344       6  \n",
       "...      ...  \n",
       "4973      11  \n",
       "4974      11  \n",
       "4975       3  \n",
       "4976       3  \n",
       "13994     10  \n",
       "\n",
       "[13867 rows x 12 columns]"
      ]
     },
     "execution_count": 72,
     "metadata": {},
     "output_type": "execute_result"
    }
   ],
   "source": [
    "disability_complaints.sort_values(by=['count'], ascending=False)"
   ]
  },
  {
   "cell_type": "code",
   "execution_count": 117,
   "id": "79b0d981",
   "metadata": {},
   "outputs": [
    {
     "data": {
      "text/plain": [
       "<AxesSubplot:xlabel='count', ylabel='region_name'>"
      ]
     },
     "execution_count": 117,
     "metadata": {},
     "output_type": "execute_result"
    },
    {
     "data": {
      "image/png": "[encoded data removed]",
      "text/plain": [
       "<Figure size 640x480 with 1 Axes>"
      ]
     },
     "metadata": {},
     "output_type": "display_data"
    }
   ],
   "source": [
    "sns.boxplot(data=region_complaints, x=\"count\", y=\"region_name\")\n"
   ]
  },
  {
   "cell_type": "code",
   "execution_count": 118,
   "id": "e4623647",
   "metadata": {},
   "outputs": [
    {
     "data": {
      "text/plain": [
       "<AxesSubplot:xlabel='Count', ylabel='clean_subcat'>"
      ]
     },
     "execution_count": 118,
     "metadata": {},
     "output_type": "execute_result"
    },
    {
     "data": {
      "image/png": "[encoded data removed]",
      "text/plain": [
       "<Figure size 640x480 with 1 Axes>"
      ]
     },
     "metadata": {},
     "output_type": "display_data"
    }
   ],
   "source": [
    "sns.histplot(data=disability_complaints, y=\"clean_subcat\")"
   ]
  },
  {
   "cell_type": "code",
   "execution_count": 127,
   "id": "c243886b",
   "metadata": {},
   "outputs": [],
   "source": [
    "disability_complaints_ltd = disability_complaints[disability_complaints['state'].isin(['TX', 'CA', 'NY', 'FL'])]"
   ]
  },
  {
   "cell_type": "code",
   "execution_count": 128,
   "id": "c746ab95",
   "metadata": {},
   "outputs": [],
   "source": [
    "disability_complaints_ltd = disability_complaints_ltd.sort_values('airport')"
   ]
  },
  {
   "cell_type": "code",
   "execution_count": 133,
   "id": "6dda6fd2",
   "metadata": {
    "scrolled": false
   },
   "outputs": [
    {
     "data": {
      "image/png": "[encoded data removed]",
      "text/plain": [
       "<Figure size 1000x1000 with 1 Axes>"
      ]
     },
     "metadata": {},
     "output_type": "display_data"
    }
   ],
   "source": [
    "fig, ax = plt.subplots(figsize=(10, 10))\n",
    "sns.histplot(data=disability_complaints, y=\"state\", ax=ax)\n",
    "plt.show()"
   ]
  },
  {
   "cell_type": "code",
   "execution_count": 131,
   "id": "567b1acb",
   "metadata": {
    "scrolled": false
   },
   "outputs": [
    {
     "data": {
      "image/png": "[encoded data removed]",
      "text/plain": [
       "<Figure size 1000x2500 with 1 Axes>"
      ]
     },
     "metadata": {},
     "output_type": "display_data"
    }
   ],
   "source": [
    "fig, ax = plt.subplots(figsize=(10, 25))\n",
    "sns.histplot(data=disability_complaints_ltd, y=\"airport\", ax=ax)\n",
    "plt.show()"
   ]
  },
  {
   "cell_type": "code",
   "execution_count": null,
   "id": "e865d566",
   "metadata": {},
   "outputs": [],
   "source": []
  }
 ],
 "metadata": {
  "kernelspec": {
   "display_name": "Python 3 (ipykernel)",
   "language": "python",
   "name": "python3"
  },
  "language_info": {
   "codemirror_mode": {
    "name": "ipython",
    "version": 3
   },
   "file_extension": ".py",
   "mimetype": "text/x-python",
   "name": "python",
   "nbconvert_exporter": "python",
   "pygments_lexer": "ipython3",
   "version": "3.9.13"
  }
 },
 "nbformat": 4,
 "nbformat_minor": 5
}
